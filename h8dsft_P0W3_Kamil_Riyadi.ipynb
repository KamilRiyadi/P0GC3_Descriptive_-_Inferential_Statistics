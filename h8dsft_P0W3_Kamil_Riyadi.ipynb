{
 "cells": [
  {
   "cell_type": "markdown",
   "metadata": {},
   "source": [
    "# Graded Challenge 3\n",
    "Name : `Kamil Riyadi Alam Situmeang`\n",
    "\n",
    "Batch : `FTDS009`"
   ]
  },
  {
   "cell_type": "markdown",
   "metadata": {},
   "source": [
    "## I. Introduction"
   ]
  },
  {
   "cell_type": "markdown",
   "metadata": {},
   "source": [
    "### I.1 Project Background\n",
    "\n",
    "This project is made to fulfill `Graded Challenge 3` on `Hacktiv8 Data Science Bootcamp program`.\n",
    "\n",
    "On this project I will try to show the utilization of `practical statistic` in Data Science."
   ]
  },
  {
   "cell_type": "markdown",
   "metadata": {},
   "source": [
    "### I.2 Dataset Source\n",
    "Dataset for this project is made available by `Mickaël Mouillé`, a crowdfunding enthusiast. You can check the dataset [here.](https://www.kaggle.com/kemical/kickstarter-projects?select=ks-projects-201801.csv)\n",
    "\n",
    "**Content**\\\n",
    "This daset contains collection of project that listed on [Kickstarter](https://www.kickstarter.com/)\n",
    "\n",
    "Since there is no column description anywhere in the page, so here are my personal made description for each column.\\\n",
    "This description will be used throughout this project.\n",
    "\n",
    "| Column             | Description                                                                            |\n",
    "| ------------------ | -------------------------------------------------------------------------------------- |\n",
    "| ID                 | Unique ID of a project                                                                 |\n",
    "| name               | Name of the project                                                                    |\n",
    "| category           | Sub-category of the project                                                            |\n",
    "| main\\_category     | Main category of the project                                                           |\n",
    "| currency           | Shows currency used by the creator for the crowdfunding                                |\n",
    "| deadline           | Shows crowdfunding time limit for the project                                          |\n",
    "| goal               | Shows the amount of money that a creator needs to complete their project               |\n",
    "| launched           | Shows when the project is launched                                                     |\n",
    "| pledged            | Shows total amount of money pledged by the backers for the project                     |\n",
    "| state              | Shows state of the project                                                             |\n",
    "| backers            | Shows number of people who  pledge money to join creators in bringing projects to life |\n",
    "| country            | Shows country the project creator is in                                                |\n",
    "| usd pledged        | Shows total amount of money backers give to the project creator (in usd)               |\n",
    "| usd\\_pledged\\_real | Shows total amount of money backers give to the project creator (in usd)               |\n",
    "| usd\\_goal\\_real    | Shows the target amount of money set for the project (in usd)                          |\n",
    "\n",
    "\n",
    "According to `Mickaël` most columns is explanatory enough, except:\n",
    "\n",
    "- usd_pledged: conversion in US dollars of the pledged column (conversion done by kickstarter).\n",
    "- usd pledge real: conversion in US dollars of the pledged column (conversion from [Fixer.io API](https://fixer.io/)).\n",
    "- usd goal real: conversion in US dollars of the goal column (conversion from [Fixer.io API](https://fixer.io/)).\n",
    "\n",
    "**Acknowledgement**\n",
    "- Data are collected from [Kickstarter Platform](https://www.kickstarter.com/)\n",
    "- usd conversion (usdpledgedreal and usdgoalreal columns) were generated from [convert ks pledges to usd](https://www.kaggle.com/tonyplaysguitar/convert-ks-pledges-to-usd/) script done by [tonyplaysguitar](https://www.kaggle.com/tonyplaysguitar)\n",
    "\n",
    "**License**\\\n",
    "This dataset has [CC BY-NC-SA 4.0](https://creativecommons.org/licenses/by-nc-sa/4.0/) license, which mean:\n",
    "- I have rights to copy and redistribute the material in any medium or format\n",
    "- I have rights to remix, transform, and build upon the material\n",
    "\n",
    "under following terms:\n",
    "- I have to give `appropriate credit`, provide a link to the license, and indicate if changes were made.\n",
    "- I am `not` using this `for commercial purpose`\n",
    "- If any remix, transform, or build upon the material, I have to distribute it under the same license.\n"
   ]
  },
  {
   "cell_type": "markdown",
   "metadata": {},
   "source": [
    "### I.3 Objectives\n",
    "\n",
    "Speaking of `practical statistics` in Data Science, most common usage are the utilization of `Descriptive Statistic` and `Inferential Statistic`.\n",
    "\n",
    "So my main objectives for this project will be:\n",
    "\n",
    "1. Describe the dataset `Descriptive Statistic` by:\n",
    "- Measure of Central Tendency\n",
    "- Measure of Variance\n",
    "\n",
    "2. Do `Inferential Statistic` through `Hypothesis Testing`"
   ]
  },
  {
   "cell_type": "markdown",
   "metadata": {},
   "source": [
    "## II. Importing Libraries"
   ]
  },
  {
   "cell_type": "code",
   "execution_count": 1,
   "metadata": {},
   "outputs": [],
   "source": [
    "# Libraries\n",
    "import pandas as pd\n",
    "import numpy as np\n",
    "from scipy import stats\n",
    "import matplotlib.pyplot as plt\n",
    "import seaborn as sns"
   ]
  },
  {
   "cell_type": "markdown",
   "metadata": {},
   "source": [
    "## III. Data Loading"
   ]
  },
  {
   "cell_type": "markdown",
   "metadata": {},
   "source": [
    "First, let's `import the dataset` into jupyter notebook `using pandas`."
   ]
  },
  {
   "cell_type": "code",
   "execution_count": 2,
   "metadata": {},
   "outputs": [],
   "source": [
    "# Import Dataset\n",
    "df = pd.read_csv('ks-projects-201801.csv')"
   ]
  },
  {
   "cell_type": "code",
   "execution_count": 3,
   "metadata": {},
   "outputs": [
    {
     "data": {
      "text/html": [
       "<div>\n",
       "<style scoped>\n",
       "    .dataframe tbody tr th:only-of-type {\n",
       "        vertical-align: middle;\n",
       "    }\n",
       "\n",
       "    .dataframe tbody tr th {\n",
       "        vertical-align: top;\n",
       "    }\n",
       "\n",
       "    .dataframe thead th {\n",
       "        text-align: right;\n",
       "    }\n",
       "</style>\n",
       "<table border=\"1\" class=\"dataframe\">\n",
       "  <thead>\n",
       "    <tr style=\"text-align: right;\">\n",
       "      <th></th>\n",
       "      <th>ID</th>\n",
       "      <th>name</th>\n",
       "      <th>category</th>\n",
       "      <th>main_category</th>\n",
       "      <th>currency</th>\n",
       "      <th>deadline</th>\n",
       "      <th>goal</th>\n",
       "      <th>launched</th>\n",
       "      <th>pledged</th>\n",
       "      <th>state</th>\n",
       "      <th>backers</th>\n",
       "      <th>country</th>\n",
       "      <th>usd pledged</th>\n",
       "      <th>usd_pledged_real</th>\n",
       "      <th>usd_goal_real</th>\n",
       "    </tr>\n",
       "  </thead>\n",
       "  <tbody>\n",
       "    <tr>\n",
       "      <th>0</th>\n",
       "      <td>1000002330</td>\n",
       "      <td>The Songs of Adelaide &amp; Abullah</td>\n",
       "      <td>Poetry</td>\n",
       "      <td>Publishing</td>\n",
       "      <td>GBP</td>\n",
       "      <td>2015-10-09</td>\n",
       "      <td>1000.0</td>\n",
       "      <td>2015-08-11 12:12:28</td>\n",
       "      <td>0.00</td>\n",
       "      <td>failed</td>\n",
       "      <td>0</td>\n",
       "      <td>GB</td>\n",
       "      <td>0.00</td>\n",
       "      <td>0.00</td>\n",
       "      <td>1533.95</td>\n",
       "    </tr>\n",
       "    <tr>\n",
       "      <th>1</th>\n",
       "      <td>1000003930</td>\n",
       "      <td>Greeting From Earth: ZGAC Arts Capsule For ET</td>\n",
       "      <td>Narrative Film</td>\n",
       "      <td>Film &amp; Video</td>\n",
       "      <td>USD</td>\n",
       "      <td>2017-11-01</td>\n",
       "      <td>30000.0</td>\n",
       "      <td>2017-09-02 04:43:57</td>\n",
       "      <td>2421.00</td>\n",
       "      <td>failed</td>\n",
       "      <td>15</td>\n",
       "      <td>US</td>\n",
       "      <td>100.00</td>\n",
       "      <td>2421.00</td>\n",
       "      <td>30000.00</td>\n",
       "    </tr>\n",
       "    <tr>\n",
       "      <th>2</th>\n",
       "      <td>1000004038</td>\n",
       "      <td>Where is Hank?</td>\n",
       "      <td>Narrative Film</td>\n",
       "      <td>Film &amp; Video</td>\n",
       "      <td>USD</td>\n",
       "      <td>2013-02-26</td>\n",
       "      <td>45000.0</td>\n",
       "      <td>2013-01-12 00:20:50</td>\n",
       "      <td>220.00</td>\n",
       "      <td>failed</td>\n",
       "      <td>3</td>\n",
       "      <td>US</td>\n",
       "      <td>220.00</td>\n",
       "      <td>220.00</td>\n",
       "      <td>45000.00</td>\n",
       "    </tr>\n",
       "    <tr>\n",
       "      <th>3</th>\n",
       "      <td>1000007540</td>\n",
       "      <td>ToshiCapital Rekordz Needs Help to Complete Album</td>\n",
       "      <td>Music</td>\n",
       "      <td>Music</td>\n",
       "      <td>USD</td>\n",
       "      <td>2012-04-16</td>\n",
       "      <td>5000.0</td>\n",
       "      <td>2012-03-17 03:24:11</td>\n",
       "      <td>1.00</td>\n",
       "      <td>failed</td>\n",
       "      <td>1</td>\n",
       "      <td>US</td>\n",
       "      <td>1.00</td>\n",
       "      <td>1.00</td>\n",
       "      <td>5000.00</td>\n",
       "    </tr>\n",
       "    <tr>\n",
       "      <th>4</th>\n",
       "      <td>1000011046</td>\n",
       "      <td>Community Film Project: The Art of Neighborhoo...</td>\n",
       "      <td>Film &amp; Video</td>\n",
       "      <td>Film &amp; Video</td>\n",
       "      <td>USD</td>\n",
       "      <td>2015-08-29</td>\n",
       "      <td>19500.0</td>\n",
       "      <td>2015-07-04 08:35:03</td>\n",
       "      <td>1283.00</td>\n",
       "      <td>canceled</td>\n",
       "      <td>14</td>\n",
       "      <td>US</td>\n",
       "      <td>1283.00</td>\n",
       "      <td>1283.00</td>\n",
       "      <td>19500.00</td>\n",
       "    </tr>\n",
       "    <tr>\n",
       "      <th>5</th>\n",
       "      <td>1000014025</td>\n",
       "      <td>Monarch Espresso Bar</td>\n",
       "      <td>Restaurants</td>\n",
       "      <td>Food</td>\n",
       "      <td>USD</td>\n",
       "      <td>2016-04-01</td>\n",
       "      <td>50000.0</td>\n",
       "      <td>2016-02-26 13:38:27</td>\n",
       "      <td>52375.00</td>\n",
       "      <td>successful</td>\n",
       "      <td>224</td>\n",
       "      <td>US</td>\n",
       "      <td>52375.00</td>\n",
       "      <td>52375.00</td>\n",
       "      <td>50000.00</td>\n",
       "    </tr>\n",
       "    <tr>\n",
       "      <th>6</th>\n",
       "      <td>1000023410</td>\n",
       "      <td>Support Solar Roasted Coffee &amp; Green Energy!  ...</td>\n",
       "      <td>Food</td>\n",
       "      <td>Food</td>\n",
       "      <td>USD</td>\n",
       "      <td>2014-12-21</td>\n",
       "      <td>1000.0</td>\n",
       "      <td>2014-12-01 18:30:44</td>\n",
       "      <td>1205.00</td>\n",
       "      <td>successful</td>\n",
       "      <td>16</td>\n",
       "      <td>US</td>\n",
       "      <td>1205.00</td>\n",
       "      <td>1205.00</td>\n",
       "      <td>1000.00</td>\n",
       "    </tr>\n",
       "    <tr>\n",
       "      <th>7</th>\n",
       "      <td>1000030581</td>\n",
       "      <td>Chaser Strips. Our Strips make Shots their B*tch!</td>\n",
       "      <td>Drinks</td>\n",
       "      <td>Food</td>\n",
       "      <td>USD</td>\n",
       "      <td>2016-03-17</td>\n",
       "      <td>25000.0</td>\n",
       "      <td>2016-02-01 20:05:12</td>\n",
       "      <td>453.00</td>\n",
       "      <td>failed</td>\n",
       "      <td>40</td>\n",
       "      <td>US</td>\n",
       "      <td>453.00</td>\n",
       "      <td>453.00</td>\n",
       "      <td>25000.00</td>\n",
       "    </tr>\n",
       "    <tr>\n",
       "      <th>8</th>\n",
       "      <td>1000034518</td>\n",
       "      <td>SPIN - Premium Retractable In-Ear Headphones w...</td>\n",
       "      <td>Product Design</td>\n",
       "      <td>Design</td>\n",
       "      <td>USD</td>\n",
       "      <td>2014-05-29</td>\n",
       "      <td>125000.0</td>\n",
       "      <td>2014-04-24 18:14:43</td>\n",
       "      <td>8233.00</td>\n",
       "      <td>canceled</td>\n",
       "      <td>58</td>\n",
       "      <td>US</td>\n",
       "      <td>8233.00</td>\n",
       "      <td>8233.00</td>\n",
       "      <td>125000.00</td>\n",
       "    </tr>\n",
       "    <tr>\n",
       "      <th>9</th>\n",
       "      <td>100004195</td>\n",
       "      <td>STUDIO IN THE SKY - A Documentary Feature Film...</td>\n",
       "      <td>Documentary</td>\n",
       "      <td>Film &amp; Video</td>\n",
       "      <td>USD</td>\n",
       "      <td>2014-08-10</td>\n",
       "      <td>65000.0</td>\n",
       "      <td>2014-07-11 21:55:48</td>\n",
       "      <td>6240.57</td>\n",
       "      <td>canceled</td>\n",
       "      <td>43</td>\n",
       "      <td>US</td>\n",
       "      <td>6240.57</td>\n",
       "      <td>6240.57</td>\n",
       "      <td>65000.00</td>\n",
       "    </tr>\n",
       "  </tbody>\n",
       "</table>\n",
       "</div>"
      ],
      "text/plain": [
       "           ID                                               name  \\\n",
       "0  1000002330                    The Songs of Adelaide & Abullah   \n",
       "1  1000003930      Greeting From Earth: ZGAC Arts Capsule For ET   \n",
       "2  1000004038                                     Where is Hank?   \n",
       "3  1000007540  ToshiCapital Rekordz Needs Help to Complete Album   \n",
       "4  1000011046  Community Film Project: The Art of Neighborhoo...   \n",
       "5  1000014025                               Monarch Espresso Bar   \n",
       "6  1000023410  Support Solar Roasted Coffee & Green Energy!  ...   \n",
       "7  1000030581  Chaser Strips. Our Strips make Shots their B*tch!   \n",
       "8  1000034518  SPIN - Premium Retractable In-Ear Headphones w...   \n",
       "9   100004195  STUDIO IN THE SKY - A Documentary Feature Film...   \n",
       "\n",
       "         category main_category currency    deadline      goal  \\\n",
       "0          Poetry    Publishing      GBP  2015-10-09    1000.0   \n",
       "1  Narrative Film  Film & Video      USD  2017-11-01   30000.0   \n",
       "2  Narrative Film  Film & Video      USD  2013-02-26   45000.0   \n",
       "3           Music         Music      USD  2012-04-16    5000.0   \n",
       "4    Film & Video  Film & Video      USD  2015-08-29   19500.0   \n",
       "5     Restaurants          Food      USD  2016-04-01   50000.0   \n",
       "6            Food          Food      USD  2014-12-21    1000.0   \n",
       "7          Drinks          Food      USD  2016-03-17   25000.0   \n",
       "8  Product Design        Design      USD  2014-05-29  125000.0   \n",
       "9     Documentary  Film & Video      USD  2014-08-10   65000.0   \n",
       "\n",
       "              launched   pledged       state  backers country  usd pledged  \\\n",
       "0  2015-08-11 12:12:28      0.00      failed        0      GB         0.00   \n",
       "1  2017-09-02 04:43:57   2421.00      failed       15      US       100.00   \n",
       "2  2013-01-12 00:20:50    220.00      failed        3      US       220.00   \n",
       "3  2012-03-17 03:24:11      1.00      failed        1      US         1.00   \n",
       "4  2015-07-04 08:35:03   1283.00    canceled       14      US      1283.00   \n",
       "5  2016-02-26 13:38:27  52375.00  successful      224      US     52375.00   \n",
       "6  2014-12-01 18:30:44   1205.00  successful       16      US      1205.00   \n",
       "7  2016-02-01 20:05:12    453.00      failed       40      US       453.00   \n",
       "8  2014-04-24 18:14:43   8233.00    canceled       58      US      8233.00   \n",
       "9  2014-07-11 21:55:48   6240.57    canceled       43      US      6240.57   \n",
       "\n",
       "   usd_pledged_real  usd_goal_real  \n",
       "0              0.00        1533.95  \n",
       "1           2421.00       30000.00  \n",
       "2            220.00       45000.00  \n",
       "3              1.00        5000.00  \n",
       "4           1283.00       19500.00  \n",
       "5          52375.00       50000.00  \n",
       "6           1205.00        1000.00  \n",
       "7            453.00       25000.00  \n",
       "8           8233.00      125000.00  \n",
       "9           6240.57       65000.00  "
      ]
     },
     "execution_count": 3,
     "metadata": {},
     "output_type": "execute_result"
    }
   ],
   "source": [
    "# Check Imported Data\n",
    "# Shows 10 first rows\n",
    "df.head(10)"
   ]
  },
  {
   "cell_type": "code",
   "execution_count": 4,
   "metadata": {},
   "outputs": [
    {
     "name": "stdout",
     "output_type": "stream",
     "text": [
      "<class 'pandas.core.frame.DataFrame'>\n",
      "RangeIndex: 378661 entries, 0 to 378660\n",
      "Data columns (total 15 columns):\n",
      " #   Column            Non-Null Count   Dtype  \n",
      "---  ------            --------------   -----  \n",
      " 0   ID                378661 non-null  int64  \n",
      " 1   name              378657 non-null  object \n",
      " 2   category          378661 non-null  object \n",
      " 3   main_category     378661 non-null  object \n",
      " 4   currency          378661 non-null  object \n",
      " 5   deadline          378661 non-null  object \n",
      " 6   goal              378661 non-null  float64\n",
      " 7   launched          378661 non-null  object \n",
      " 8   pledged           378661 non-null  float64\n",
      " 9   state             378661 non-null  object \n",
      " 10  backers           378661 non-null  int64  \n",
      " 11  country           378661 non-null  object \n",
      " 12  usd pledged       374864 non-null  float64\n",
      " 13  usd_pledged_real  378661 non-null  float64\n",
      " 14  usd_goal_real     378661 non-null  float64\n",
      "dtypes: float64(5), int64(2), object(8)\n",
      "memory usage: 43.3+ MB\n"
     ]
    }
   ],
   "source": [
    "# Dataset info\n",
    "df.info()"
   ]
  },
  {
   "cell_type": "markdown",
   "metadata": {},
   "source": [
    "From dataframe information, it tells us this dataset cointains `378661 rows of entries and 15 columns`.\n",
    "\n",
    "I think the datatype for each column is already in accordance with the column explanation above.\n",
    "- `ID` and `backers` are stored as integer number.\n",
    "- `currencies` related column stored as floating number.\n",
    "- `Name` related column stored as object."
   ]
  },
  {
   "cell_type": "code",
   "execution_count": 5,
   "metadata": {},
   "outputs": [
    {
     "name": "stdout",
     "output_type": "stream",
     "text": [
      "ID                     0\n",
      "name                   4\n",
      "category               0\n",
      "main_category          0\n",
      "currency               0\n",
      "deadline               0\n",
      "goal                   0\n",
      "launched               0\n",
      "pledged                0\n",
      "state                  0\n",
      "backers                0\n",
      "country                0\n",
      "usd pledged         3797\n",
      "usd_pledged_real       0\n",
      "usd_goal_real          0\n",
      "dtype: int64\n"
     ]
    }
   ],
   "source": [
    "# Null value check for each column\n",
    "print(df.isnull().sum())"
   ]
  },
  {
   "cell_type": "markdown",
   "metadata": {},
   "source": [
    "From `null summary` above, there are `4 missing value on name column` and `3797 missing value on usd pledged column`.\n",
    "\n",
    "I will check and handle it on `Data Cleaning` process in the next step."
   ]
  },
  {
   "cell_type": "markdown",
   "metadata": {},
   "source": [
    "## IV. Data Cleaning"
   ]
  },
  {
   "cell_type": "markdown",
   "metadata": {},
   "source": [
    "### IV.1 Standard Missing Value identification and handling\n",
    "\n",
    "In this part of the data cleaning process, I will `identify any standard missing value` inside the dataset and handle it.\n",
    "\n",
    "`Standard missing value` identified as `null entries` or simply entry with `NaN` value in the column.\n",
    "\n",
    "For this process, I will check all column that has `NaN` value."
   ]
  },
  {
   "cell_type": "markdown",
   "metadata": {},
   "source": [
    "Based on `data loading process`, We already know the column which has missing values are `name` column and `usd pledged` column.\n",
    "\n",
    "Let's take closer look."
   ]
  },
  {
   "cell_type": "code",
   "execution_count": 6,
   "metadata": {},
   "outputs": [
    {
     "data": {
      "text/html": [
       "<div>\n",
       "<style scoped>\n",
       "    .dataframe tbody tr th:only-of-type {\n",
       "        vertical-align: middle;\n",
       "    }\n",
       "\n",
       "    .dataframe tbody tr th {\n",
       "        vertical-align: top;\n",
       "    }\n",
       "\n",
       "    .dataframe thead th {\n",
       "        text-align: right;\n",
       "    }\n",
       "</style>\n",
       "<table border=\"1\" class=\"dataframe\">\n",
       "  <thead>\n",
       "    <tr style=\"text-align: right;\">\n",
       "      <th></th>\n",
       "      <th>ID</th>\n",
       "      <th>name</th>\n",
       "      <th>category</th>\n",
       "      <th>main_category</th>\n",
       "      <th>currency</th>\n",
       "      <th>deadline</th>\n",
       "      <th>goal</th>\n",
       "      <th>launched</th>\n",
       "      <th>pledged</th>\n",
       "      <th>state</th>\n",
       "      <th>backers</th>\n",
       "      <th>country</th>\n",
       "      <th>usd pledged</th>\n",
       "      <th>usd_pledged_real</th>\n",
       "      <th>usd_goal_real</th>\n",
       "    </tr>\n",
       "  </thead>\n",
       "  <tbody>\n",
       "    <tr>\n",
       "      <th>166851</th>\n",
       "      <td>1848699072</td>\n",
       "      <td>NaN</td>\n",
       "      <td>Narrative Film</td>\n",
       "      <td>Film &amp; Video</td>\n",
       "      <td>USD</td>\n",
       "      <td>2012-02-29</td>\n",
       "      <td>200000.0</td>\n",
       "      <td>2012-01-01 12:35:31</td>\n",
       "      <td>100.0</td>\n",
       "      <td>failed</td>\n",
       "      <td>1</td>\n",
       "      <td>US</td>\n",
       "      <td>100.00</td>\n",
       "      <td>100.00</td>\n",
       "      <td>200000.00</td>\n",
       "    </tr>\n",
       "    <tr>\n",
       "      <th>307234</th>\n",
       "      <td>634871725</td>\n",
       "      <td>NaN</td>\n",
       "      <td>Video Games</td>\n",
       "      <td>Games</td>\n",
       "      <td>GBP</td>\n",
       "      <td>2013-01-06</td>\n",
       "      <td>2000.0</td>\n",
       "      <td>2012-12-19 23:57:48</td>\n",
       "      <td>196.0</td>\n",
       "      <td>failed</td>\n",
       "      <td>12</td>\n",
       "      <td>GB</td>\n",
       "      <td>317.73</td>\n",
       "      <td>316.05</td>\n",
       "      <td>3224.97</td>\n",
       "    </tr>\n",
       "    <tr>\n",
       "      <th>309991</th>\n",
       "      <td>648853978</td>\n",
       "      <td>NaN</td>\n",
       "      <td>Product Design</td>\n",
       "      <td>Design</td>\n",
       "      <td>USD</td>\n",
       "      <td>2016-07-18</td>\n",
       "      <td>2500.0</td>\n",
       "      <td>2016-06-18 05:01:47</td>\n",
       "      <td>0.0</td>\n",
       "      <td>suspended</td>\n",
       "      <td>0</td>\n",
       "      <td>US</td>\n",
       "      <td>0.00</td>\n",
       "      <td>0.00</td>\n",
       "      <td>2500.00</td>\n",
       "    </tr>\n",
       "    <tr>\n",
       "      <th>338931</th>\n",
       "      <td>796533179</td>\n",
       "      <td>NaN</td>\n",
       "      <td>Painting</td>\n",
       "      <td>Art</td>\n",
       "      <td>USD</td>\n",
       "      <td>2011-12-05</td>\n",
       "      <td>35000.0</td>\n",
       "      <td>2011-11-06 23:55:55</td>\n",
       "      <td>220.0</td>\n",
       "      <td>failed</td>\n",
       "      <td>5</td>\n",
       "      <td>US</td>\n",
       "      <td>220.00</td>\n",
       "      <td>220.00</td>\n",
       "      <td>35000.00</td>\n",
       "    </tr>\n",
       "  </tbody>\n",
       "</table>\n",
       "</div>"
      ],
      "text/plain": [
       "                ID name        category main_category currency    deadline  \\\n",
       "166851  1848699072  NaN  Narrative Film  Film & Video      USD  2012-02-29   \n",
       "307234   634871725  NaN     Video Games         Games      GBP  2013-01-06   \n",
       "309991   648853978  NaN  Product Design        Design      USD  2016-07-18   \n",
       "338931   796533179  NaN        Painting           Art      USD  2011-12-05   \n",
       "\n",
       "            goal             launched  pledged      state  backers country  \\\n",
       "166851  200000.0  2012-01-01 12:35:31    100.0     failed        1      US   \n",
       "307234    2000.0  2012-12-19 23:57:48    196.0     failed       12      GB   \n",
       "309991    2500.0  2016-06-18 05:01:47      0.0  suspended        0      US   \n",
       "338931   35000.0  2011-11-06 23:55:55    220.0     failed        5      US   \n",
       "\n",
       "        usd pledged  usd_pledged_real  usd_goal_real  \n",
       "166851       100.00            100.00      200000.00  \n",
       "307234       317.73            316.05        3224.97  \n",
       "309991         0.00              0.00        2500.00  \n",
       "338931       220.00            220.00       35000.00  "
      ]
     },
     "execution_count": 6,
     "metadata": {},
     "output_type": "execute_result"
    }
   ],
   "source": [
    "# Standard Missing Value\n",
    "# Column : name\n",
    "\n",
    "df.loc[\n",
    "    (df['name'].isnull())\n",
    "]"
   ]
  },
  {
   "cell_type": "markdown",
   "metadata": {},
   "source": [
    "From result above, We can see that those is almost complete entries.\\\n",
    "Maybe because poor data handling, the name of the project is not well documented and resulted in `null` value.\n",
    "\n",
    "Although those project did not have name, it is still have unique ID to distinguish one another.\\\n",
    "So, my take on this missing values will be replacing it with `Unnamed Project`"
   ]
  },
  {
   "cell_type": "code",
   "execution_count": 7,
   "metadata": {},
   "outputs": [],
   "source": [
    "# Replacing Null Value\n",
    "# Column : name\n",
    "\n",
    "df['name'].fillna('Unnamed Project', inplace=True)"
   ]
  },
  {
   "cell_type": "markdown",
   "metadata": {},
   "source": [
    "Let's check other column for missing values."
   ]
  },
  {
   "cell_type": "code",
   "execution_count": 8,
   "metadata": {},
   "outputs": [
    {
     "data": {
      "text/html": [
       "<div>\n",
       "<style scoped>\n",
       "    .dataframe tbody tr th:only-of-type {\n",
       "        vertical-align: middle;\n",
       "    }\n",
       "\n",
       "    .dataframe tbody tr th {\n",
       "        vertical-align: top;\n",
       "    }\n",
       "\n",
       "    .dataframe thead th {\n",
       "        text-align: right;\n",
       "    }\n",
       "</style>\n",
       "<table border=\"1\" class=\"dataframe\">\n",
       "  <thead>\n",
       "    <tr style=\"text-align: right;\">\n",
       "      <th></th>\n",
       "      <th>ID</th>\n",
       "      <th>name</th>\n",
       "      <th>category</th>\n",
       "      <th>main_category</th>\n",
       "      <th>currency</th>\n",
       "      <th>deadline</th>\n",
       "      <th>goal</th>\n",
       "      <th>launched</th>\n",
       "      <th>pledged</th>\n",
       "      <th>state</th>\n",
       "      <th>backers</th>\n",
       "      <th>country</th>\n",
       "      <th>usd pledged</th>\n",
       "      <th>usd_pledged_real</th>\n",
       "      <th>usd_goal_real</th>\n",
       "    </tr>\n",
       "  </thead>\n",
       "  <tbody>\n",
       "    <tr>\n",
       "      <th>43759</th>\n",
       "      <td>1222673767</td>\n",
       "      <td>Prince of Whales (Debut Album)</td>\n",
       "      <td>Music</td>\n",
       "      <td>Music</td>\n",
       "      <td>USD</td>\n",
       "      <td>2016-03-09</td>\n",
       "      <td>1100.0</td>\n",
       "      <td>2016-02-25 00:45:10</td>\n",
       "      <td>890.00</td>\n",
       "      <td>undefined</td>\n",
       "      <td>0</td>\n",
       "      <td>N,0\"</td>\n",
       "      <td>NaN</td>\n",
       "      <td>890.00</td>\n",
       "      <td>1100.00</td>\n",
       "    </tr>\n",
       "    <tr>\n",
       "      <th>265919</th>\n",
       "      <td>422762831</td>\n",
       "      <td>Enrichment - Dark Comedy Film</td>\n",
       "      <td>Film &amp; Video</td>\n",
       "      <td>Film &amp; Video</td>\n",
       "      <td>GBP</td>\n",
       "      <td>2015-04-21</td>\n",
       "      <td>1300.0</td>\n",
       "      <td>2015-03-22 20:52:37</td>\n",
       "      <td>1471.00</td>\n",
       "      <td>undefined</td>\n",
       "      <td>0</td>\n",
       "      <td>N,0\"</td>\n",
       "      <td>NaN</td>\n",
       "      <td>2224.07</td>\n",
       "      <td>1965.53</td>\n",
       "    </tr>\n",
       "    <tr>\n",
       "      <th>354049</th>\n",
       "      <td>873666952</td>\n",
       "      <td>Irene's Five String Acoustic Fiddle</td>\n",
       "      <td>Music</td>\n",
       "      <td>Music</td>\n",
       "      <td>USD</td>\n",
       "      <td>2014-09-12</td>\n",
       "      <td>5000.0</td>\n",
       "      <td>2014-08-13 08:02:57</td>\n",
       "      <td>5050.00</td>\n",
       "      <td>undefined</td>\n",
       "      <td>0</td>\n",
       "      <td>N,0\"</td>\n",
       "      <td>NaN</td>\n",
       "      <td>5050.00</td>\n",
       "      <td>5000.00</td>\n",
       "    </tr>\n",
       "    <tr>\n",
       "      <th>177565</th>\n",
       "      <td>1903288996</td>\n",
       "      <td>\"Just to Be\" in a Music Video...</td>\n",
       "      <td>Music</td>\n",
       "      <td>Music</td>\n",
       "      <td>USD</td>\n",
       "      <td>2014-09-15</td>\n",
       "      <td>2000.0</td>\n",
       "      <td>2014-08-21 03:10:10</td>\n",
       "      <td>2110.00</td>\n",
       "      <td>undefined</td>\n",
       "      <td>0</td>\n",
       "      <td>N,0\"</td>\n",
       "      <td>NaN</td>\n",
       "      <td>2110.00</td>\n",
       "      <td>2000.00</td>\n",
       "    </tr>\n",
       "    <tr>\n",
       "      <th>304581</th>\n",
       "      <td>620841489</td>\n",
       "      <td>Chuck Sj Hay, Time For An Album?! - Mood Swings</td>\n",
       "      <td>Music</td>\n",
       "      <td>Music</td>\n",
       "      <td>GBP</td>\n",
       "      <td>2014-09-29</td>\n",
       "      <td>800.0</td>\n",
       "      <td>2014-08-30 11:00:18</td>\n",
       "      <td>1027.00</td>\n",
       "      <td>undefined</td>\n",
       "      <td>0</td>\n",
       "      <td>N,0\"</td>\n",
       "      <td>NaN</td>\n",
       "      <td>1650.01</td>\n",
       "      <td>1285.31</td>\n",
       "    </tr>\n",
       "    <tr>\n",
       "      <th>287988</th>\n",
       "      <td>535296027</td>\n",
       "      <td>Building a Studio from Scratch for the public</td>\n",
       "      <td>Music</td>\n",
       "      <td>Music</td>\n",
       "      <td>USD</td>\n",
       "      <td>2015-10-07</td>\n",
       "      <td>4000.0</td>\n",
       "      <td>2015-09-12 23:40:00</td>\n",
       "      <td>0.00</td>\n",
       "      <td>undefined</td>\n",
       "      <td>0</td>\n",
       "      <td>N,0\"</td>\n",
       "      <td>NaN</td>\n",
       "      <td>0.00</td>\n",
       "      <td>4000.00</td>\n",
       "    </tr>\n",
       "    <tr>\n",
       "      <th>304447</th>\n",
       "      <td>620024463</td>\n",
       "      <td>Skull Island   Legend of Kong</td>\n",
       "      <td>Publishing</td>\n",
       "      <td>Publishing</td>\n",
       "      <td>GBP</td>\n",
       "      <td>2016-01-08</td>\n",
       "      <td>5000.0</td>\n",
       "      <td>2015-12-09 01:28:54</td>\n",
       "      <td>25.00</td>\n",
       "      <td>undefined</td>\n",
       "      <td>0</td>\n",
       "      <td>N,0\"</td>\n",
       "      <td>NaN</td>\n",
       "      <td>36.44</td>\n",
       "      <td>7287.35</td>\n",
       "    </tr>\n",
       "    <tr>\n",
       "      <th>308729</th>\n",
       "      <td>642594632</td>\n",
       "      <td>The Start</td>\n",
       "      <td>Film &amp; Video</td>\n",
       "      <td>Film &amp; Video</td>\n",
       "      <td>USD</td>\n",
       "      <td>2015-10-02</td>\n",
       "      <td>6000.0</td>\n",
       "      <td>2015-08-03 18:05:32</td>\n",
       "      <td>0.00</td>\n",
       "      <td>undefined</td>\n",
       "      <td>0</td>\n",
       "      <td>N,0\"</td>\n",
       "      <td>NaN</td>\n",
       "      <td>0.00</td>\n",
       "      <td>6000.00</td>\n",
       "    </tr>\n",
       "    <tr>\n",
       "      <th>177738</th>\n",
       "      <td>1904141310</td>\n",
       "      <td>WritingsbyCosmos  http://writingsbycosmos.blog...</td>\n",
       "      <td>Publishing</td>\n",
       "      <td>Publishing</td>\n",
       "      <td>USD</td>\n",
       "      <td>2015-07-19</td>\n",
       "      <td>1200.0</td>\n",
       "      <td>2015-06-22 19:11:11</td>\n",
       "      <td>0.00</td>\n",
       "      <td>undefined</td>\n",
       "      <td>0</td>\n",
       "      <td>N,0\"</td>\n",
       "      <td>NaN</td>\n",
       "      <td>0.00</td>\n",
       "      <td>1200.00</td>\n",
       "    </tr>\n",
       "    <tr>\n",
       "      <th>58732</th>\n",
       "      <td>1298733170</td>\n",
       "      <td>McLEOD Album Fund</td>\n",
       "      <td>Music</td>\n",
       "      <td>Music</td>\n",
       "      <td>USD</td>\n",
       "      <td>2015-06-03</td>\n",
       "      <td>6000.0</td>\n",
       "      <td>2015-05-14 21:47:19</td>\n",
       "      <td>6020.00</td>\n",
       "      <td>undefined</td>\n",
       "      <td>0</td>\n",
       "      <td>N,0\"</td>\n",
       "      <td>NaN</td>\n",
       "      <td>6020.00</td>\n",
       "      <td>6000.00</td>\n",
       "    </tr>\n",
       "    <tr>\n",
       "      <th>350880</th>\n",
       "      <td>857532125</td>\n",
       "      <td>\"THE SUMMER SINKS\" - A new album by Tanner Porter</td>\n",
       "      <td>Music</td>\n",
       "      <td>Music</td>\n",
       "      <td>USD</td>\n",
       "      <td>2015-07-29</td>\n",
       "      <td>4500.0</td>\n",
       "      <td>2015-07-02 02:03:58</td>\n",
       "      <td>5420.00</td>\n",
       "      <td>undefined</td>\n",
       "      <td>0</td>\n",
       "      <td>N,0\"</td>\n",
       "      <td>NaN</td>\n",
       "      <td>5420.00</td>\n",
       "      <td>4500.00</td>\n",
       "    </tr>\n",
       "    <tr>\n",
       "      <th>57541</th>\n",
       "      <td>1292835145</td>\n",
       "      <td>WonderQuest ~ A Feature Length Music Film</td>\n",
       "      <td>Film &amp; Video</td>\n",
       "      <td>Film &amp; Video</td>\n",
       "      <td>USD</td>\n",
       "      <td>2014-05-06</td>\n",
       "      <td>1111.0</td>\n",
       "      <td>2014-04-05 05:12:41</td>\n",
       "      <td>3032.88</td>\n",
       "      <td>undefined</td>\n",
       "      <td>0</td>\n",
       "      <td>N,0\"</td>\n",
       "      <td>NaN</td>\n",
       "      <td>3032.88</td>\n",
       "      <td>1111.00</td>\n",
       "    </tr>\n",
       "    <tr>\n",
       "      <th>13351</th>\n",
       "      <td>1067209349</td>\n",
       "      <td>Discover World</td>\n",
       "      <td>Publishing</td>\n",
       "      <td>Publishing</td>\n",
       "      <td>GBP</td>\n",
       "      <td>2015-04-20</td>\n",
       "      <td>1400.0</td>\n",
       "      <td>2015-02-28 06:15:33</td>\n",
       "      <td>0.00</td>\n",
       "      <td>undefined</td>\n",
       "      <td>0</td>\n",
       "      <td>N,0\"</td>\n",
       "      <td>NaN</td>\n",
       "      <td>0.00</td>\n",
       "      <td>2116.72</td>\n",
       "    </tr>\n",
       "    <tr>\n",
       "      <th>25973</th>\n",
       "      <td>113195505</td>\n",
       "      <td>Sunday White Boat</td>\n",
       "      <td>Music</td>\n",
       "      <td>Music</td>\n",
       "      <td>EUR</td>\n",
       "      <td>2015-06-28</td>\n",
       "      <td>4000.0</td>\n",
       "      <td>2015-06-12 01:03:16</td>\n",
       "      <td>15.00</td>\n",
       "      <td>undefined</td>\n",
       "      <td>0</td>\n",
       "      <td>N,0\"</td>\n",
       "      <td>NaN</td>\n",
       "      <td>16.64</td>\n",
       "      <td>4438.38</td>\n",
       "    </tr>\n",
       "    <tr>\n",
       "      <th>242663</th>\n",
       "      <td>304127551</td>\n",
       "      <td>African Film Festival NZ</td>\n",
       "      <td>Film &amp; Video</td>\n",
       "      <td>Film &amp; Video</td>\n",
       "      <td>NZD</td>\n",
       "      <td>2015-01-31</td>\n",
       "      <td>2500.0</td>\n",
       "      <td>2015-01-01 00:54:04</td>\n",
       "      <td>2788.00</td>\n",
       "      <td>undefined</td>\n",
       "      <td>0</td>\n",
       "      <td>N,0\"</td>\n",
       "      <td>NaN</td>\n",
       "      <td>2070.40</td>\n",
       "      <td>1856.53</td>\n",
       "    </tr>\n",
       "    <tr>\n",
       "      <th>214951</th>\n",
       "      <td>2095257404</td>\n",
       "      <td>Help the machine explode with sound</td>\n",
       "      <td>Music</td>\n",
       "      <td>Music</td>\n",
       "      <td>GBP</td>\n",
       "      <td>2015-02-12</td>\n",
       "      <td>2000.0</td>\n",
       "      <td>2015-01-13 10:13:57</td>\n",
       "      <td>2005.00</td>\n",
       "      <td>undefined</td>\n",
       "      <td>0</td>\n",
       "      <td>N,0\"</td>\n",
       "      <td>NaN</td>\n",
       "      <td>3083.24</td>\n",
       "      <td>3075.55</td>\n",
       "    </tr>\n",
       "    <tr>\n",
       "      <th>350769</th>\n",
       "      <td>856963683</td>\n",
       "      <td>W I N T E R - 'In The Dark'</td>\n",
       "      <td>Music</td>\n",
       "      <td>Music</td>\n",
       "      <td>GBP</td>\n",
       "      <td>2015-03-01</td>\n",
       "      <td>2000.0</td>\n",
       "      <td>2015-01-30 13:48:10</td>\n",
       "      <td>2987.00</td>\n",
       "      <td>undefined</td>\n",
       "      <td>0</td>\n",
       "      <td>N,0\"</td>\n",
       "      <td>NaN</td>\n",
       "      <td>4535.52</td>\n",
       "      <td>3036.84</td>\n",
       "    </tr>\n",
       "    <tr>\n",
       "      <th>227483</th>\n",
       "      <td>226696573</td>\n",
       "      <td>Help Oak &amp; Spire Make Their Debut Album!</td>\n",
       "      <td>Music</td>\n",
       "      <td>Music</td>\n",
       "      <td>USD</td>\n",
       "      <td>2014-12-05</td>\n",
       "      <td>6100.0</td>\n",
       "      <td>2014-11-07 20:28:40</td>\n",
       "      <td>8795.00</td>\n",
       "      <td>undefined</td>\n",
       "      <td>0</td>\n",
       "      <td>N,0\"</td>\n",
       "      <td>NaN</td>\n",
       "      <td>8795.00</td>\n",
       "      <td>6100.00</td>\n",
       "    </tr>\n",
       "    <tr>\n",
       "      <th>57007</th>\n",
       "      <td>1290084598</td>\n",
       "      <td>Static Jedi Video Series</td>\n",
       "      <td>Film &amp; Video</td>\n",
       "      <td>Film &amp; Video</td>\n",
       "      <td>USD</td>\n",
       "      <td>2014-07-05</td>\n",
       "      <td>3000.0</td>\n",
       "      <td>2014-06-05 06:08:26</td>\n",
       "      <td>3000.00</td>\n",
       "      <td>undefined</td>\n",
       "      <td>0</td>\n",
       "      <td>N,0\"</td>\n",
       "      <td>NaN</td>\n",
       "      <td>3000.00</td>\n",
       "      <td>3000.00</td>\n",
       "    </tr>\n",
       "    <tr>\n",
       "      <th>95429</th>\n",
       "      <td>1484970349</td>\n",
       "      <td>Celebrate the life of Walter Gibbons</td>\n",
       "      <td>Music</td>\n",
       "      <td>Music</td>\n",
       "      <td>GBP</td>\n",
       "      <td>2016-03-11</td>\n",
       "      <td>1300.0</td>\n",
       "      <td>2016-02-26 15:07:27</td>\n",
       "      <td>1509.00</td>\n",
       "      <td>undefined</td>\n",
       "      <td>0</td>\n",
       "      <td>N,0\"</td>\n",
       "      <td>NaN</td>\n",
       "      <td>2156.70</td>\n",
       "      <td>1857.99</td>\n",
       "    </tr>\n",
       "    <tr>\n",
       "      <th>88475</th>\n",
       "      <td>1449773145</td>\n",
       "      <td>COMFORT FOOD</td>\n",
       "      <td>Film &amp; Video</td>\n",
       "      <td>Film &amp; Video</td>\n",
       "      <td>AUD</td>\n",
       "      <td>2014-09-21</td>\n",
       "      <td>1250.0</td>\n",
       "      <td>2014-08-22 12:47:58</td>\n",
       "      <td>1260.00</td>\n",
       "      <td>undefined</td>\n",
       "      <td>0</td>\n",
       "      <td>N,0\"</td>\n",
       "      <td>NaN</td>\n",
       "      <td>1107.69</td>\n",
       "      <td>1098.90</td>\n",
       "    </tr>\n",
       "    <tr>\n",
       "      <th>89169</th>\n",
       "      <td>1453188416</td>\n",
       "      <td>Min Gud - våra psalmer</td>\n",
       "      <td>Music</td>\n",
       "      <td>Music</td>\n",
       "      <td>SEK</td>\n",
       "      <td>2016-05-12</td>\n",
       "      <td>35000.0</td>\n",
       "      <td>2016-04-12 13:46:52</td>\n",
       "      <td>20300.00</td>\n",
       "      <td>failed</td>\n",
       "      <td>0</td>\n",
       "      <td>N,0\"</td>\n",
       "      <td>NaN</td>\n",
       "      <td>2469.47</td>\n",
       "      <td>4257.70</td>\n",
       "    </tr>\n",
       "    <tr>\n",
       "      <th>293938</th>\n",
       "      <td>566129955</td>\n",
       "      <td>Edgar Allan</td>\n",
       "      <td>Music</td>\n",
       "      <td>Music</td>\n",
       "      <td>USD</td>\n",
       "      <td>2016-04-29</td>\n",
       "      <td>3000.0</td>\n",
       "      <td>2016-04-04 20:28:46</td>\n",
       "      <td>3425.00</td>\n",
       "      <td>successful</td>\n",
       "      <td>0</td>\n",
       "      <td>N,0\"</td>\n",
       "      <td>NaN</td>\n",
       "      <td>3425.00</td>\n",
       "      <td>3000.00</td>\n",
       "    </tr>\n",
       "    <tr>\n",
       "      <th>148739</th>\n",
       "      <td>1756036869</td>\n",
       "      <td>Striker</td>\n",
       "      <td>Film &amp; Video</td>\n",
       "      <td>Film &amp; Video</td>\n",
       "      <td>CAD</td>\n",
       "      <td>2016-04-06</td>\n",
       "      <td>2350.0</td>\n",
       "      <td>2016-03-07 09:24:15</td>\n",
       "      <td>2368.00</td>\n",
       "      <td>undefined</td>\n",
       "      <td>0</td>\n",
       "      <td>N,0\"</td>\n",
       "      <td>NaN</td>\n",
       "      <td>1810.67</td>\n",
       "      <td>1796.91</td>\n",
       "    </tr>\n",
       "    <tr>\n",
       "      <th>182728</th>\n",
       "      <td>1930235521</td>\n",
       "      <td>Marching to Your Own Drum (working title)</td>\n",
       "      <td>Film &amp; Video</td>\n",
       "      <td>Film &amp; Video</td>\n",
       "      <td>USD</td>\n",
       "      <td>2015-02-06</td>\n",
       "      <td>4000.0</td>\n",
       "      <td>2015-01-07 23:48:27</td>\n",
       "      <td>806.00</td>\n",
       "      <td>undefined</td>\n",
       "      <td>0</td>\n",
       "      <td>N,0\"</td>\n",
       "      <td>NaN</td>\n",
       "      <td>806.00</td>\n",
       "      <td>4000.00</td>\n",
       "    </tr>\n",
       "    <tr>\n",
       "      <th>228830</th>\n",
       "      <td>233313713</td>\n",
       "      <td>Tim Cook's first album - \"awaken.\"</td>\n",
       "      <td>Music</td>\n",
       "      <td>Music</td>\n",
       "      <td>USD</td>\n",
       "      <td>2014-08-09</td>\n",
       "      <td>7000.0</td>\n",
       "      <td>2014-07-16 07:03:46</td>\n",
       "      <td>7033.33</td>\n",
       "      <td>undefined</td>\n",
       "      <td>0</td>\n",
       "      <td>N,0\"</td>\n",
       "      <td>NaN</td>\n",
       "      <td>7033.33</td>\n",
       "      <td>7000.00</td>\n",
       "    </tr>\n",
       "    <tr>\n",
       "      <th>210806</th>\n",
       "      <td>2074268865</td>\n",
       "      <td>Eric and Shala Rodgers' - Worship Album</td>\n",
       "      <td>Music</td>\n",
       "      <td>Music</td>\n",
       "      <td>USD</td>\n",
       "      <td>2015-06-20</td>\n",
       "      <td>7000.0</td>\n",
       "      <td>2015-04-21 13:18:20</td>\n",
       "      <td>7152.00</td>\n",
       "      <td>undefined</td>\n",
       "      <td>0</td>\n",
       "      <td>N,0\"</td>\n",
       "      <td>NaN</td>\n",
       "      <td>7152.00</td>\n",
       "      <td>7000.00</td>\n",
       "    </tr>\n",
       "    <tr>\n",
       "      <th>269772</th>\n",
       "      <td>442697284</td>\n",
       "      <td>The Running Scared</td>\n",
       "      <td>Film &amp; Video</td>\n",
       "      <td>Film &amp; Video</td>\n",
       "      <td>USD</td>\n",
       "      <td>2014-11-16</td>\n",
       "      <td>5000.0</td>\n",
       "      <td>2014-09-23 15:26:27</td>\n",
       "      <td>0.00</td>\n",
       "      <td>undefined</td>\n",
       "      <td>0</td>\n",
       "      <td>N,0\"</td>\n",
       "      <td>NaN</td>\n",
       "      <td>0.00</td>\n",
       "      <td>5000.00</td>\n",
       "    </tr>\n",
       "    <tr>\n",
       "      <th>112423</th>\n",
       "      <td>1571138908</td>\n",
       "      <td>Send Freestyle to 2015 Drumline Competition</td>\n",
       "      <td>Music</td>\n",
       "      <td>Music</td>\n",
       "      <td>USD</td>\n",
       "      <td>2015-07-04</td>\n",
       "      <td>2000.0</td>\n",
       "      <td>2015-06-02 16:36:49</td>\n",
       "      <td>220.00</td>\n",
       "      <td>undefined</td>\n",
       "      <td>0</td>\n",
       "      <td>N,0\"</td>\n",
       "      <td>NaN</td>\n",
       "      <td>220.00</td>\n",
       "      <td>2000.00</td>\n",
       "    </tr>\n",
       "    <tr>\n",
       "      <th>217184</th>\n",
       "      <td>2106472859</td>\n",
       "      <td>Jaxon Haldane's new album</td>\n",
       "      <td>Music</td>\n",
       "      <td>Music</td>\n",
       "      <td>USD</td>\n",
       "      <td>2015-10-09</td>\n",
       "      <td>7765.0</td>\n",
       "      <td>2015-09-09 19:51:24</td>\n",
       "      <td>8100.00</td>\n",
       "      <td>undefined</td>\n",
       "      <td>0</td>\n",
       "      <td>N,0\"</td>\n",
       "      <td>NaN</td>\n",
       "      <td>8100.00</td>\n",
       "      <td>7765.00</td>\n",
       "    </tr>\n",
       "    <tr>\n",
       "      <th>295315</th>\n",
       "      <td>573110943</td>\n",
       "      <td>Mirai - Morning Train [Music Video]</td>\n",
       "      <td>Music</td>\n",
       "      <td>Music</td>\n",
       "      <td>USD</td>\n",
       "      <td>2015-08-09</td>\n",
       "      <td>3000.0</td>\n",
       "      <td>2015-06-10 17:02:51</td>\n",
       "      <td>0.00</td>\n",
       "      <td>undefined</td>\n",
       "      <td>0</td>\n",
       "      <td>N,0\"</td>\n",
       "      <td>NaN</td>\n",
       "      <td>0.00</td>\n",
       "      <td>3000.00</td>\n",
       "    </tr>\n",
       "    <tr>\n",
       "      <th>253978</th>\n",
       "      <td>361546581</td>\n",
       "      <td>Zephaniah and The 18 Wheelers full length albu...</td>\n",
       "      <td>Music</td>\n",
       "      <td>Music</td>\n",
       "      <td>USD</td>\n",
       "      <td>2016-02-22</td>\n",
       "      <td>6000.0</td>\n",
       "      <td>2016-01-23 05:52:31</td>\n",
       "      <td>7202.00</td>\n",
       "      <td>undefined</td>\n",
       "      <td>0</td>\n",
       "      <td>N,0\"</td>\n",
       "      <td>NaN</td>\n",
       "      <td>7202.00</td>\n",
       "      <td>6000.00</td>\n",
       "    </tr>\n",
       "    <tr>\n",
       "      <th>50926</th>\n",
       "      <td>1259341709</td>\n",
       "      <td>Fear the Radio</td>\n",
       "      <td>Music</td>\n",
       "      <td>Music</td>\n",
       "      <td>USD</td>\n",
       "      <td>2016-03-04</td>\n",
       "      <td>5000.0</td>\n",
       "      <td>2016-02-03 02:08:32</td>\n",
       "      <td>5061.00</td>\n",
       "      <td>undefined</td>\n",
       "      <td>0</td>\n",
       "      <td>N,0\"</td>\n",
       "      <td>NaN</td>\n",
       "      <td>5061.00</td>\n",
       "      <td>5000.00</td>\n",
       "    </tr>\n",
       "    <tr>\n",
       "      <th>83829</th>\n",
       "      <td>1426285624</td>\n",
       "      <td>Touch Screen Weddings</td>\n",
       "      <td>Film &amp; Video</td>\n",
       "      <td>Film &amp; Video</td>\n",
       "      <td>GBP</td>\n",
       "      <td>2016-04-16</td>\n",
       "      <td>4000.0</td>\n",
       "      <td>2016-03-17 11:35:41</td>\n",
       "      <td>12.00</td>\n",
       "      <td>undefined</td>\n",
       "      <td>0</td>\n",
       "      <td>N,0\"</td>\n",
       "      <td>NaN</td>\n",
       "      <td>17.25</td>\n",
       "      <td>5751.18</td>\n",
       "    </tr>\n",
       "    <tr>\n",
       "      <th>227457</th>\n",
       "      <td>226544148</td>\n",
       "      <td>iPops~Customize Your Apple Watches</td>\n",
       "      <td>Accessories</td>\n",
       "      <td>Fashion</td>\n",
       "      <td>USD</td>\n",
       "      <td>2015-12-19</td>\n",
       "      <td>35000.0</td>\n",
       "      <td>2015-11-19 21:54:49</td>\n",
       "      <td>2249.00</td>\n",
       "      <td>undefined</td>\n",
       "      <td>0</td>\n",
       "      <td>N,0\"</td>\n",
       "      <td>NaN</td>\n",
       "      <td>2249.00</td>\n",
       "      <td>35000.00</td>\n",
       "    </tr>\n",
       "    <tr>\n",
       "      <th>105328</th>\n",
       "      <td>1535340358</td>\n",
       "      <td>Free Music Cloud For Everyone</td>\n",
       "      <td>Music</td>\n",
       "      <td>Music</td>\n",
       "      <td>SEK</td>\n",
       "      <td>2016-02-01</td>\n",
       "      <td>10000.0</td>\n",
       "      <td>2016-01-02 02:16:06</td>\n",
       "      <td>0.00</td>\n",
       "      <td>undefined</td>\n",
       "      <td>0</td>\n",
       "      <td>N,0\"</td>\n",
       "      <td>NaN</td>\n",
       "      <td>0.00</td>\n",
       "      <td>1187.59</td>\n",
       "    </tr>\n",
       "    <tr>\n",
       "      <th>156115</th>\n",
       "      <td>1794010575</td>\n",
       "      <td>Do LeSuits Dream of Electric Bees?</td>\n",
       "      <td>Music</td>\n",
       "      <td>Music</td>\n",
       "      <td>AUD</td>\n",
       "      <td>2015-03-29</td>\n",
       "      <td>10000.0</td>\n",
       "      <td>2015-02-25 21:53:49</td>\n",
       "      <td>10266.00</td>\n",
       "      <td>undefined</td>\n",
       "      <td>0</td>\n",
       "      <td>N,0\"</td>\n",
       "      <td>NaN</td>\n",
       "      <td>7751.43</td>\n",
       "      <td>7550.59</td>\n",
       "    </tr>\n",
       "    <tr>\n",
       "      <th>305549</th>\n",
       "      <td>625947731</td>\n",
       "      <td>Boxing Film</td>\n",
       "      <td>Film &amp; Video</td>\n",
       "      <td>Film &amp; Video</td>\n",
       "      <td>USD</td>\n",
       "      <td>2016-05-25</td>\n",
       "      <td>50000.0</td>\n",
       "      <td>2016-04-25 19:17:18</td>\n",
       "      <td>0.00</td>\n",
       "      <td>canceled</td>\n",
       "      <td>0</td>\n",
       "      <td>N,0\"</td>\n",
       "      <td>NaN</td>\n",
       "      <td>0.00</td>\n",
       "      <td>50000.00</td>\n",
       "    </tr>\n",
       "    <tr>\n",
       "      <th>152954</th>\n",
       "      <td>1777232090</td>\n",
       "      <td>Ukulele Circus - Jimmy Denis / First Solo Ukul...</td>\n",
       "      <td>Music</td>\n",
       "      <td>Music</td>\n",
       "      <td>EUR</td>\n",
       "      <td>2016-05-16</td>\n",
       "      <td>4070.0</td>\n",
       "      <td>2016-04-14 11:32:37</td>\n",
       "      <td>4150.00</td>\n",
       "      <td>successful</td>\n",
       "      <td>0</td>\n",
       "      <td>N,0\"</td>\n",
       "      <td>NaN</td>\n",
       "      <td>4655.86</td>\n",
       "      <td>4566.11</td>\n",
       "    </tr>\n",
       "    <tr>\n",
       "      <th>58132</th>\n",
       "      <td>1295775179</td>\n",
       "      <td>50 Remote Musical Rival Recording Sessions put...</td>\n",
       "      <td>Music</td>\n",
       "      <td>Music</td>\n",
       "      <td>USD</td>\n",
       "      <td>2016-02-11</td>\n",
       "      <td>9300.0</td>\n",
       "      <td>2016-01-12 19:57:17</td>\n",
       "      <td>0.00</td>\n",
       "      <td>undefined</td>\n",
       "      <td>0</td>\n",
       "      <td>N,0\"</td>\n",
       "      <td>NaN</td>\n",
       "      <td>0.00</td>\n",
       "      <td>9300.00</td>\n",
       "    </tr>\n",
       "    <tr>\n",
       "      <th>275510</th>\n",
       "      <td>47182656</td>\n",
       "      <td>Shine Your Light On Me (CD) / I Just Looked Up...</td>\n",
       "      <td>Music</td>\n",
       "      <td>Music</td>\n",
       "      <td>USD</td>\n",
       "      <td>2014-10-06</td>\n",
       "      <td>5500.0</td>\n",
       "      <td>2014-09-04 00:00:21</td>\n",
       "      <td>5675.00</td>\n",
       "      <td>undefined</td>\n",
       "      <td>0</td>\n",
       "      <td>N,0\"</td>\n",
       "      <td>NaN</td>\n",
       "      <td>5675.00</td>\n",
       "      <td>5500.00</td>\n",
       "    </tr>\n",
       "    <tr>\n",
       "      <th>196374</th>\n",
       "      <td>2000004062</td>\n",
       "      <td>La suisse en vidéo</td>\n",
       "      <td>Film &amp; Video</td>\n",
       "      <td>Film &amp; Video</td>\n",
       "      <td>CHF</td>\n",
       "      <td>2016-03-19</td>\n",
       "      <td>1600.0</td>\n",
       "      <td>2016-02-18 01:22:05</td>\n",
       "      <td>11.00</td>\n",
       "      <td>undefined</td>\n",
       "      <td>0</td>\n",
       "      <td>N,0\"</td>\n",
       "      <td>NaN</td>\n",
       "      <td>11.28</td>\n",
       "      <td>1641.04</td>\n",
       "    </tr>\n",
       "    <tr>\n",
       "      <th>301323</th>\n",
       "      <td>604384679</td>\n",
       "      <td>Famu: favorite moment in music</td>\n",
       "      <td>Music</td>\n",
       "      <td>Music</td>\n",
       "      <td>GBP</td>\n",
       "      <td>2014-12-12</td>\n",
       "      <td>1000.0</td>\n",
       "      <td>2014-11-12 21:13:23</td>\n",
       "      <td>0.00</td>\n",
       "      <td>undefined</td>\n",
       "      <td>0</td>\n",
       "      <td>N,0\"</td>\n",
       "      <td>NaN</td>\n",
       "      <td>0.00</td>\n",
       "      <td>1570.97</td>\n",
       "    </tr>\n",
       "    <tr>\n",
       "      <th>184356</th>\n",
       "      <td>1938799655</td>\n",
       "      <td>Evan Koteles - EP!</td>\n",
       "      <td>Music</td>\n",
       "      <td>Music</td>\n",
       "      <td>USD</td>\n",
       "      <td>2015-09-29</td>\n",
       "      <td>3000.0</td>\n",
       "      <td>2015-09-09 20:29:39</td>\n",
       "      <td>3001.00</td>\n",
       "      <td>undefined</td>\n",
       "      <td>0</td>\n",
       "      <td>N,0\"</td>\n",
       "      <td>NaN</td>\n",
       "      <td>3001.00</td>\n",
       "      <td>3000.00</td>\n",
       "    </tr>\n",
       "    <tr>\n",
       "      <th>303129</th>\n",
       "      <td>613756076</td>\n",
       "      <td>Pre-order FUBAR Signed/Limited Editions</td>\n",
       "      <td>Publishing</td>\n",
       "      <td>Publishing</td>\n",
       "      <td>AUD</td>\n",
       "      <td>2015-09-21</td>\n",
       "      <td>2000.0</td>\n",
       "      <td>2015-07-23 01:40:37</td>\n",
       "      <td>850.00</td>\n",
       "      <td>undefined</td>\n",
       "      <td>0</td>\n",
       "      <td>N,0\"</td>\n",
       "      <td>NaN</td>\n",
       "      <td>596.32</td>\n",
       "      <td>1403.11</td>\n",
       "    </tr>\n",
       "  </tbody>\n",
       "</table>\n",
       "</div>"
      ],
      "text/plain": [
       "                ID                                               name  \\\n",
       "43759   1222673767                     Prince of Whales (Debut Album)   \n",
       "265919   422762831                      Enrichment - Dark Comedy Film   \n",
       "354049   873666952                Irene's Five String Acoustic Fiddle   \n",
       "177565  1903288996                   \"Just to Be\" in a Music Video...   \n",
       "304581   620841489    Chuck Sj Hay, Time For An Album?! - Mood Swings   \n",
       "287988   535296027      Building a Studio from Scratch for the public   \n",
       "304447   620024463                      Skull Island   Legend of Kong   \n",
       "308729   642594632                                          The Start   \n",
       "177738  1904141310  WritingsbyCosmos  http://writingsbycosmos.blog...   \n",
       "58732   1298733170                                  McLEOD Album Fund   \n",
       "350880   857532125  \"THE SUMMER SINKS\" - A new album by Tanner Porter   \n",
       "57541   1292835145          WonderQuest ~ A Feature Length Music Film   \n",
       "13351   1067209349                                     Discover World   \n",
       "25973    113195505                                  Sunday White Boat   \n",
       "242663   304127551                           African Film Festival NZ   \n",
       "214951  2095257404                Help the machine explode with sound   \n",
       "350769   856963683                        W I N T E R - 'In The Dark'   \n",
       "227483   226696573           Help Oak & Spire Make Their Debut Album!   \n",
       "57007   1290084598                           Static Jedi Video Series   \n",
       "95429   1484970349               Celebrate the life of Walter Gibbons   \n",
       "88475   1449773145                                       COMFORT FOOD   \n",
       "89169   1453188416                             Min Gud - våra psalmer   \n",
       "293938   566129955                                        Edgar Allan   \n",
       "148739  1756036869                                            Striker   \n",
       "182728  1930235521          Marching to Your Own Drum (working title)   \n",
       "228830   233313713                 Tim Cook's first album - \"awaken.\"   \n",
       "210806  2074268865            Eric and Shala Rodgers' - Worship Album   \n",
       "269772   442697284                                 The Running Scared   \n",
       "112423  1571138908        Send Freestyle to 2015 Drumline Competition   \n",
       "217184  2106472859                          Jaxon Haldane's new album   \n",
       "295315   573110943                Mirai - Morning Train [Music Video]   \n",
       "253978   361546581  Zephaniah and The 18 Wheelers full length albu...   \n",
       "50926   1259341709                                     Fear the Radio   \n",
       "83829   1426285624                              Touch Screen Weddings   \n",
       "227457   226544148                 iPops~Customize Your Apple Watches   \n",
       "105328  1535340358                      Free Music Cloud For Everyone   \n",
       "156115  1794010575                 Do LeSuits Dream of Electric Bees?   \n",
       "305549   625947731                                        Boxing Film   \n",
       "152954  1777232090  Ukulele Circus - Jimmy Denis / First Solo Ukul...   \n",
       "58132   1295775179  50 Remote Musical Rival Recording Sessions put...   \n",
       "275510    47182656  Shine Your Light On Me (CD) / I Just Looked Up...   \n",
       "196374  2000004062                                 La suisse en vidéo   \n",
       "301323   604384679                     Famu: favorite moment in music   \n",
       "184356  1938799655                                 Evan Koteles - EP!   \n",
       "303129   613756076            Pre-order FUBAR Signed/Limited Editions   \n",
       "\n",
       "            category main_category currency    deadline     goal  \\\n",
       "43759          Music         Music      USD  2016-03-09   1100.0   \n",
       "265919  Film & Video  Film & Video      GBP  2015-04-21   1300.0   \n",
       "354049         Music         Music      USD  2014-09-12   5000.0   \n",
       "177565         Music         Music      USD  2014-09-15   2000.0   \n",
       "304581         Music         Music      GBP  2014-09-29    800.0   \n",
       "287988         Music         Music      USD  2015-10-07   4000.0   \n",
       "304447    Publishing    Publishing      GBP  2016-01-08   5000.0   \n",
       "308729  Film & Video  Film & Video      USD  2015-10-02   6000.0   \n",
       "177738    Publishing    Publishing      USD  2015-07-19   1200.0   \n",
       "58732          Music         Music      USD  2015-06-03   6000.0   \n",
       "350880         Music         Music      USD  2015-07-29   4500.0   \n",
       "57541   Film & Video  Film & Video      USD  2014-05-06   1111.0   \n",
       "13351     Publishing    Publishing      GBP  2015-04-20   1400.0   \n",
       "25973          Music         Music      EUR  2015-06-28   4000.0   \n",
       "242663  Film & Video  Film & Video      NZD  2015-01-31   2500.0   \n",
       "214951         Music         Music      GBP  2015-02-12   2000.0   \n",
       "350769         Music         Music      GBP  2015-03-01   2000.0   \n",
       "227483         Music         Music      USD  2014-12-05   6100.0   \n",
       "57007   Film & Video  Film & Video      USD  2014-07-05   3000.0   \n",
       "95429          Music         Music      GBP  2016-03-11   1300.0   \n",
       "88475   Film & Video  Film & Video      AUD  2014-09-21   1250.0   \n",
       "89169          Music         Music      SEK  2016-05-12  35000.0   \n",
       "293938         Music         Music      USD  2016-04-29   3000.0   \n",
       "148739  Film & Video  Film & Video      CAD  2016-04-06   2350.0   \n",
       "182728  Film & Video  Film & Video      USD  2015-02-06   4000.0   \n",
       "228830         Music         Music      USD  2014-08-09   7000.0   \n",
       "210806         Music         Music      USD  2015-06-20   7000.0   \n",
       "269772  Film & Video  Film & Video      USD  2014-11-16   5000.0   \n",
       "112423         Music         Music      USD  2015-07-04   2000.0   \n",
       "217184         Music         Music      USD  2015-10-09   7765.0   \n",
       "295315         Music         Music      USD  2015-08-09   3000.0   \n",
       "253978         Music         Music      USD  2016-02-22   6000.0   \n",
       "50926          Music         Music      USD  2016-03-04   5000.0   \n",
       "83829   Film & Video  Film & Video      GBP  2016-04-16   4000.0   \n",
       "227457   Accessories       Fashion      USD  2015-12-19  35000.0   \n",
       "105328         Music         Music      SEK  2016-02-01  10000.0   \n",
       "156115         Music         Music      AUD  2015-03-29  10000.0   \n",
       "305549  Film & Video  Film & Video      USD  2016-05-25  50000.0   \n",
       "152954         Music         Music      EUR  2016-05-16   4070.0   \n",
       "58132          Music         Music      USD  2016-02-11   9300.0   \n",
       "275510         Music         Music      USD  2014-10-06   5500.0   \n",
       "196374  Film & Video  Film & Video      CHF  2016-03-19   1600.0   \n",
       "301323         Music         Music      GBP  2014-12-12   1000.0   \n",
       "184356         Music         Music      USD  2015-09-29   3000.0   \n",
       "303129    Publishing    Publishing      AUD  2015-09-21   2000.0   \n",
       "\n",
       "                   launched   pledged       state  backers country  \\\n",
       "43759   2016-02-25 00:45:10    890.00   undefined        0    N,0\"   \n",
       "265919  2015-03-22 20:52:37   1471.00   undefined        0    N,0\"   \n",
       "354049  2014-08-13 08:02:57   5050.00   undefined        0    N,0\"   \n",
       "177565  2014-08-21 03:10:10   2110.00   undefined        0    N,0\"   \n",
       "304581  2014-08-30 11:00:18   1027.00   undefined        0    N,0\"   \n",
       "287988  2015-09-12 23:40:00      0.00   undefined        0    N,0\"   \n",
       "304447  2015-12-09 01:28:54     25.00   undefined        0    N,0\"   \n",
       "308729  2015-08-03 18:05:32      0.00   undefined        0    N,0\"   \n",
       "177738  2015-06-22 19:11:11      0.00   undefined        0    N,0\"   \n",
       "58732   2015-05-14 21:47:19   6020.00   undefined        0    N,0\"   \n",
       "350880  2015-07-02 02:03:58   5420.00   undefined        0    N,0\"   \n",
       "57541   2014-04-05 05:12:41   3032.88   undefined        0    N,0\"   \n",
       "13351   2015-02-28 06:15:33      0.00   undefined        0    N,0\"   \n",
       "25973   2015-06-12 01:03:16     15.00   undefined        0    N,0\"   \n",
       "242663  2015-01-01 00:54:04   2788.00   undefined        0    N,0\"   \n",
       "214951  2015-01-13 10:13:57   2005.00   undefined        0    N,0\"   \n",
       "350769  2015-01-30 13:48:10   2987.00   undefined        0    N,0\"   \n",
       "227483  2014-11-07 20:28:40   8795.00   undefined        0    N,0\"   \n",
       "57007   2014-06-05 06:08:26   3000.00   undefined        0    N,0\"   \n",
       "95429   2016-02-26 15:07:27   1509.00   undefined        0    N,0\"   \n",
       "88475   2014-08-22 12:47:58   1260.00   undefined        0    N,0\"   \n",
       "89169   2016-04-12 13:46:52  20300.00      failed        0    N,0\"   \n",
       "293938  2016-04-04 20:28:46   3425.00  successful        0    N,0\"   \n",
       "148739  2016-03-07 09:24:15   2368.00   undefined        0    N,0\"   \n",
       "182728  2015-01-07 23:48:27    806.00   undefined        0    N,0\"   \n",
       "228830  2014-07-16 07:03:46   7033.33   undefined        0    N,0\"   \n",
       "210806  2015-04-21 13:18:20   7152.00   undefined        0    N,0\"   \n",
       "269772  2014-09-23 15:26:27      0.00   undefined        0    N,0\"   \n",
       "112423  2015-06-02 16:36:49    220.00   undefined        0    N,0\"   \n",
       "217184  2015-09-09 19:51:24   8100.00   undefined        0    N,0\"   \n",
       "295315  2015-06-10 17:02:51      0.00   undefined        0    N,0\"   \n",
       "253978  2016-01-23 05:52:31   7202.00   undefined        0    N,0\"   \n",
       "50926   2016-02-03 02:08:32   5061.00   undefined        0    N,0\"   \n",
       "83829   2016-03-17 11:35:41     12.00   undefined        0    N,0\"   \n",
       "227457  2015-11-19 21:54:49   2249.00   undefined        0    N,0\"   \n",
       "105328  2016-01-02 02:16:06      0.00   undefined        0    N,0\"   \n",
       "156115  2015-02-25 21:53:49  10266.00   undefined        0    N,0\"   \n",
       "305549  2016-04-25 19:17:18      0.00    canceled        0    N,0\"   \n",
       "152954  2016-04-14 11:32:37   4150.00  successful        0    N,0\"   \n",
       "58132   2016-01-12 19:57:17      0.00   undefined        0    N,0\"   \n",
       "275510  2014-09-04 00:00:21   5675.00   undefined        0    N,0\"   \n",
       "196374  2016-02-18 01:22:05     11.00   undefined        0    N,0\"   \n",
       "301323  2014-11-12 21:13:23      0.00   undefined        0    N,0\"   \n",
       "184356  2015-09-09 20:29:39   3001.00   undefined        0    N,0\"   \n",
       "303129  2015-07-23 01:40:37    850.00   undefined        0    N,0\"   \n",
       "\n",
       "        usd pledged  usd_pledged_real  usd_goal_real  \n",
       "43759           NaN            890.00        1100.00  \n",
       "265919          NaN           2224.07        1965.53  \n",
       "354049          NaN           5050.00        5000.00  \n",
       "177565          NaN           2110.00        2000.00  \n",
       "304581          NaN           1650.01        1285.31  \n",
       "287988          NaN              0.00        4000.00  \n",
       "304447          NaN             36.44        7287.35  \n",
       "308729          NaN              0.00        6000.00  \n",
       "177738          NaN              0.00        1200.00  \n",
       "58732           NaN           6020.00        6000.00  \n",
       "350880          NaN           5420.00        4500.00  \n",
       "57541           NaN           3032.88        1111.00  \n",
       "13351           NaN              0.00        2116.72  \n",
       "25973           NaN             16.64        4438.38  \n",
       "242663          NaN           2070.40        1856.53  \n",
       "214951          NaN           3083.24        3075.55  \n",
       "350769          NaN           4535.52        3036.84  \n",
       "227483          NaN           8795.00        6100.00  \n",
       "57007           NaN           3000.00        3000.00  \n",
       "95429           NaN           2156.70        1857.99  \n",
       "88475           NaN           1107.69        1098.90  \n",
       "89169           NaN           2469.47        4257.70  \n",
       "293938          NaN           3425.00        3000.00  \n",
       "148739          NaN           1810.67        1796.91  \n",
       "182728          NaN            806.00        4000.00  \n",
       "228830          NaN           7033.33        7000.00  \n",
       "210806          NaN           7152.00        7000.00  \n",
       "269772          NaN              0.00        5000.00  \n",
       "112423          NaN            220.00        2000.00  \n",
       "217184          NaN           8100.00        7765.00  \n",
       "295315          NaN              0.00        3000.00  \n",
       "253978          NaN           7202.00        6000.00  \n",
       "50926           NaN           5061.00        5000.00  \n",
       "83829           NaN             17.25        5751.18  \n",
       "227457          NaN           2249.00       35000.00  \n",
       "105328          NaN              0.00        1187.59  \n",
       "156115          NaN           7751.43        7550.59  \n",
       "305549          NaN              0.00       50000.00  \n",
       "152954          NaN           4655.86        4566.11  \n",
       "58132           NaN              0.00        9300.00  \n",
       "275510          NaN           5675.00        5500.00  \n",
       "196374          NaN             11.28        1641.04  \n",
       "301323          NaN              0.00        1570.97  \n",
       "184356          NaN           3001.00        3000.00  \n",
       "303129          NaN            596.32        1403.11  "
      ]
     },
     "execution_count": 8,
     "metadata": {},
     "output_type": "execute_result"
    }
   ],
   "source": [
    "# Standard Missing Value\n",
    "# Column : usd pledged\n",
    "\n",
    "df.loc[\n",
    "    (df['usd pledged'].isnull())\n",
    "].sample(45)"
   ]
  },
  {
   "cell_type": "markdown",
   "metadata": {},
   "source": [
    "Based on result above, I found interisting pattern here.\\\n",
    "notice for every `usd pledged` with `null` value it is preceded with `N,0\"` value in `country` column.\n",
    "\n",
    "It is another missing value, `Unexpected missing value` to be exact.\n",
    "\n",
    "Based on the pattern, It is likely because poor data handling causing pandas fail to seperate those entries.\n",
    "\n",
    "My take for this case will be:\n",
    "1. Replacing all `N,0\"` value in `country` column into country code base on `currency` column.\n",
    "2. Fill `NaN` value in `usd pledged` with the same value as in `usd pledged real`.\\\n",
    "Reason behind this is because both column share the same description, the only differences is the calculation method."
   ]
  },
  {
   "cell_type": "markdown",
   "metadata": {},
   "source": [
    "`Value for point number 1, will follow this conversion table:`\n",
    "\n",
    "| Country | Currency  |\n",
    "| ------- | --------- |\n",
    "| AU      | AUD       |\n",
    "| CA      | CAD       |\n",
    "| CH      | CHF       |\n",
    "| DK      | DKK       |\n",
    "| GB      | GBP       |\n",
    "| HK      | HKD       |\n",
    "| JP      | JPY       |\n",
    "| MX      | MXN       |\n",
    "| NO      | NOK       |\n",
    "| NZ      | NZD       |\n",
    "| SE      | SEK       |\n",
    "| SG      | SGD       |\n",
    "| US      | USD       |\n",
    "| AT      | EUR       |\n",
    "| BE      | EUR       |\n",
    "| DE      | EUR       |\n",
    "| ES      | EUR       |\n",
    "| FR      | EUR       |\n",
    "| IE      | EUR       |\n",
    "| IT      | EUR       |\n",
    "| LU      | EUR       |\n",
    "| NL      | EUR       |\n",
    "\n",
    "Since there are several countries using `EUR`, and we don't have much information to specify which country is it,\\\n",
    "the `country` for `EUR` curencies will be replaced into `EU`."
   ]
  },
  {
   "cell_type": "code",
   "execution_count": 9,
   "metadata": {},
   "outputs": [],
   "source": [
    "# Replace 'N,0\"' into standard missing value\n",
    "\n",
    "df['country'].replace('N,0\"', np.NaN, inplace=True)"
   ]
  },
  {
   "cell_type": "code",
   "execution_count": 10,
   "metadata": {},
   "outputs": [],
   "source": [
    "# Replace standard missing value \n",
    "# fill with currency based on country the project is on\n",
    "\n",
    "df['country'].fillna(df['currency'], inplace=True)"
   ]
  },
  {
   "cell_type": "code",
   "execution_count": 11,
   "metadata": {},
   "outputs": [],
   "source": [
    "# Translate currency code into country code\n",
    "\n",
    "df['country'].replace(\n",
    "    ['AUD', 'CAD', 'CHF', 'DKK', 'GBP', 'HKD', 'JPY','MXN', 'NOK', 'NZD', 'SEK', 'SGD', 'USD', 'EUR'], \n",
    "    ['AU', 'CA', 'CH', 'DK', 'GB', 'HK', 'JP','MX', 'NO', 'NZ', 'SE', 'SG', 'US', 'EU'], \n",
    "    inplace=True)"
   ]
  },
  {
   "cell_type": "markdown",
   "metadata": {},
   "source": [
    "Now, for point number 2, let's fill `NaN` value in `usd pledged` with the same value as in `usd pledged real`"
   ]
  },
  {
   "cell_type": "code",
   "execution_count": 12,
   "metadata": {},
   "outputs": [],
   "source": [
    "# fill usd pledged value\n",
    "\n",
    "df['usd pledged'].fillna(df['usd_pledged_real'], inplace=True)"
   ]
  },
  {
   "cell_type": "markdown",
   "metadata": {},
   "source": [
    "### IV.2 Non-Standard Missing Value identification and handling\n",
    "\n",
    "In this part of the data cleaning process, I will `identify any non-standard missing value` inside the dataset and handle it.\n",
    "\n",
    "`Non-standard missing value` identified as any entries that contains value like `'N/A', 'na', ' ', '-', etc.`\\\n",
    "All refers to missing values but was not in standard manners ('null', 'NA', 'NaN')\n",
    "\n",
    "For this process, I will check all unique value within each column."
   ]
  },
  {
   "cell_type": "code",
   "execution_count": 13,
   "metadata": {},
   "outputs": [
    {
     "data": {
      "text/plain": [
       "array(['Poetry', 'Narrative Film', 'Music', 'Film & Video', 'Restaurants',\n",
       "       'Food', 'Drinks', 'Product Design', 'Documentary', 'Nonfiction',\n",
       "       'Indie Rock', 'Crafts', 'Games', 'Tabletop Games', 'Design',\n",
       "       'Comic Books', 'Art Books', 'Fashion', 'Childrenswear', 'Theater',\n",
       "       'Comics', 'DIY', 'Webseries', 'Animation', 'Food Trucks',\n",
       "       'Public Art', 'Illustration', 'Photography', 'Pop', 'People',\n",
       "       'Art', 'Family', 'Fiction', 'Accessories', 'Rock', 'Hardware',\n",
       "       'Software', 'Weaving', 'Gadgets', 'Web', 'Jazz', 'Ready-to-wear',\n",
       "       'Festivals', 'Video Games', 'Anthologies', 'Publishing', 'Shorts',\n",
       "       'Electronic Music', 'Radio & Podcasts', 'Apps', 'Cookbooks',\n",
       "       'Apparel', 'Metal', 'Comedy', 'Hip-Hop', 'Periodicals', 'Dance',\n",
       "       'Technology', 'Painting', 'World Music', 'Photobooks', 'Drama',\n",
       "       'Architecture', 'Young Adult', 'Latin', 'Mobile Games', 'Flight',\n",
       "       'Fine Art', 'Action', 'Playing Cards', 'Makerspaces', 'Punk',\n",
       "       'Thrillers', \"Children's Books\", 'Audio', 'Performance Art',\n",
       "       'Ceramics', 'Vegan', 'Graphic Novels', 'Fabrication Tools',\n",
       "       'Performances', 'Sculpture', 'Sound', 'Stationery', 'Print',\n",
       "       \"Farmer's Markets\", 'Events', 'Classical Music', 'Graphic Design',\n",
       "       'Spaces', 'Country & Folk', 'Wearables', 'Mixed Media',\n",
       "       'Journalism', 'Movie Theaters', 'Animals', 'Digital Art', 'Horror',\n",
       "       'Knitting', 'Small Batch', 'Installations', 'Community Gardens',\n",
       "       'DIY Electronics', 'Embroidery', 'Camera Equipment', 'Jewelry',\n",
       "       'Farms', 'Conceptual Art', 'Fantasy', 'Webcomics', 'Experimental',\n",
       "       'Science Fiction', 'Puzzles', 'R&B', 'Music Videos', 'Calendars',\n",
       "       'Video', 'Plays', 'Blues', 'Bacon', 'Faith', 'Live Games',\n",
       "       'Woodworking', 'Places', 'Footwear', '3D Printing', 'Academic',\n",
       "       'Zines', 'Musical', 'Workshops', 'Photo', 'Immersive',\n",
       "       'Letterpress', 'Gaming Hardware', 'Candles', 'Television',\n",
       "       'Space Exploration', 'Couture', 'Nature', 'Robots', 'Typography',\n",
       "       'Crochet', 'Translations', 'Textiles', 'Pottery',\n",
       "       'Interactive Design', 'Video Art', 'Quilts', 'Glass',\n",
       "       'Pet Fashion', 'Printing', 'Romance', 'Civic Design', 'Kids',\n",
       "       'Literary Journals', 'Taxidermy', 'Literary Spaces', 'Chiptune',\n",
       "       'Residencies'], dtype=object)"
      ]
     },
     "execution_count": 13,
     "metadata": {},
     "output_type": "execute_result"
    }
   ],
   "source": [
    "# Non-Standard Missing Value\n",
    "# Column : category\n",
    "\n",
    "df['category'].unique()"
   ]
  },
  {
   "cell_type": "markdown",
   "metadata": {},
   "source": [
    "Based on result above, each unique entry in `category` makes sense and in accordance to the column description.\\\n",
    "Hereby, I declared the column is free from any `Non-standard missing values`"
   ]
  },
  {
   "cell_type": "code",
   "execution_count": 14,
   "metadata": {},
   "outputs": [
    {
     "data": {
      "text/plain": [
       "array(['Publishing', 'Film & Video', 'Music', 'Food', 'Design', 'Crafts',\n",
       "       'Games', 'Comics', 'Fashion', 'Theater', 'Art', 'Photography',\n",
       "       'Technology', 'Dance', 'Journalism'], dtype=object)"
      ]
     },
     "execution_count": 14,
     "metadata": {},
     "output_type": "execute_result"
    }
   ],
   "source": [
    "# Non-Standard Missing Value\n",
    "# Column : main_category\n",
    "\n",
    "df['main_category'].unique()"
   ]
  },
  {
   "cell_type": "markdown",
   "metadata": {},
   "source": [
    "Based on result above, each unique entry in `main_category` makes sense and in accordance to the column description.\\\n",
    "Hereby, I declared the column is free from any `Non-standard missing values`"
   ]
  },
  {
   "cell_type": "code",
   "execution_count": 15,
   "metadata": {},
   "outputs": [
    {
     "data": {
      "text/plain": [
       "array(['GBP', 'USD', 'CAD', 'AUD', 'NOK', 'EUR', 'MXN', 'SEK', 'NZD',\n",
       "       'CHF', 'DKK', 'HKD', 'SGD', 'JPY'], dtype=object)"
      ]
     },
     "execution_count": 15,
     "metadata": {},
     "output_type": "execute_result"
    }
   ],
   "source": [
    "# Non-Standard Missing Value\n",
    "# Column : currency\n",
    "\n",
    "df['currency'].unique()"
   ]
  },
  {
   "cell_type": "markdown",
   "metadata": {},
   "source": [
    "Based on result above, each unique entry in `currency` makes sense and in accordance to the column description.\\\n",
    "Hereby, I declared the column is free from any `Non-standard missing values`"
   ]
  },
  {
   "cell_type": "code",
   "execution_count": 16,
   "metadata": {},
   "outputs": [
    {
     "data": {
      "text/plain": [
       "array(['2015-10-09', '2017-11-01', '2013-02-26', ..., '2009-07-26',\n",
       "       '2009-07-30', '2009-12-28'], dtype=object)"
      ]
     },
     "execution_count": 16,
     "metadata": {},
     "output_type": "execute_result"
    }
   ],
   "source": [
    "# Non-Standard Missing Value\n",
    "# Column : deadline\n",
    "\n",
    "df['deadline'].unique()"
   ]
  },
  {
   "cell_type": "markdown",
   "metadata": {},
   "source": [
    "Based on result above, each unique entry in `deadline` makes sense and in accordance to the column description.\\\n",
    "Hereby, I declared the column is free from any `Non-standard missing values`"
   ]
  },
  {
   "cell_type": "code",
   "execution_count": 17,
   "metadata": {},
   "outputs": [
    {
     "data": {
      "text/plain": [
       "count       378661.0\n",
       "mean         49080.8\n",
       "std        1183391.3\n",
       "min              0.0\n",
       "25%           2000.0\n",
       "50%           5200.0\n",
       "75%          16000.0\n",
       "max      100000000.0\n",
       "Name: goal, dtype: float64"
      ]
     },
     "execution_count": 17,
     "metadata": {},
     "output_type": "execute_result"
    }
   ],
   "source": [
    "# Non-Standard Missing Value\n",
    "# Column : goal\n",
    "\n",
    "df['goal'].describe().round(1)"
   ]
  },
  {
   "cell_type": "markdown",
   "metadata": {},
   "source": [
    "Based on result above, value entry in `goal` makes sense and in accordance to the column description.\\\n",
    "Hereby, I declared the column is free from any `Non-standard missing values`"
   ]
  },
  {
   "cell_type": "code",
   "execution_count": 18,
   "metadata": {},
   "outputs": [
    {
     "data": {
      "text/plain": [
       "array(['2015-08-11 12:12:28', '2017-09-02 04:43:57',\n",
       "       '2013-01-12 00:20:50', ..., '2010-07-01 19:40:30',\n",
       "       '2016-01-13 18:13:53', '2011-07-19 09:07:47'], dtype=object)"
      ]
     },
     "execution_count": 18,
     "metadata": {},
     "output_type": "execute_result"
    }
   ],
   "source": [
    "# Non-Standard Missing Value\n",
    "# Column : launched\n",
    "\n",
    "df['launched'].unique()"
   ]
  },
  {
   "cell_type": "markdown",
   "metadata": {},
   "source": [
    "Based on result above, each unique entry in `launched` makes sense and in accordance to the column description.\\\n",
    "Hereby, I declared the column is free from any `Non-standard missing values`"
   ]
  },
  {
   "cell_type": "code",
   "execution_count": 19,
   "metadata": {},
   "outputs": [
    {
     "data": {
      "text/plain": [
       "count      378661.0\n",
       "mean         9683.0\n",
       "std         95636.0\n",
       "min             0.0\n",
       "25%            30.0\n",
       "50%           620.0\n",
       "75%          4076.0\n",
       "max      20338986.3\n",
       "Name: pledged, dtype: float64"
      ]
     },
     "execution_count": 19,
     "metadata": {},
     "output_type": "execute_result"
    }
   ],
   "source": [
    "# Non-Standard Missing Value\n",
    "# Column : pledged\n",
    "\n",
    "df['pledged'].describe().round(1)"
   ]
  },
  {
   "cell_type": "markdown",
   "metadata": {},
   "source": [
    "Based on result above, value entry in `pledged` makes sense and in accordance to the column description.\\\n",
    "Hereby, I declared the column is free from any `Non-standard missing values`"
   ]
  },
  {
   "cell_type": "code",
   "execution_count": 20,
   "metadata": {},
   "outputs": [
    {
     "data": {
      "text/plain": [
       "array(['failed', 'canceled', 'successful', 'live', 'undefined',\n",
       "       'suspended'], dtype=object)"
      ]
     },
     "execution_count": 20,
     "metadata": {},
     "output_type": "execute_result"
    }
   ],
   "source": [
    "# Non-Standard Missing Value\n",
    "# Column : state\n",
    "\n",
    "df['state'].unique()"
   ]
  },
  {
   "cell_type": "markdown",
   "metadata": {},
   "source": [
    "Based on result above, each unique entry in `state` makes sense and in accordance to the column description.\\\n",
    "Hereby, I declared the column is free from any `Non-standard missing values`"
   ]
  },
  {
   "cell_type": "code",
   "execution_count": 21,
   "metadata": {},
   "outputs": [
    {
     "data": {
      "text/plain": [
       "count    378661.0\n",
       "mean        105.6\n",
       "std         907.2\n",
       "min           0.0\n",
       "25%           2.0\n",
       "50%          12.0\n",
       "75%          56.0\n",
       "max      219382.0\n",
       "Name: backers, dtype: float64"
      ]
     },
     "execution_count": 21,
     "metadata": {},
     "output_type": "execute_result"
    }
   ],
   "source": [
    "# Non-Standard Missing Value\n",
    "# Column : backers\n",
    "\n",
    "df['backers'].describe().round(1)"
   ]
  },
  {
   "cell_type": "markdown",
   "metadata": {},
   "source": [
    "Based on result above, value entry in `backers` makes sense and in accordance to the column description.\\\n",
    "Hereby, I declared the column is free from any `Non-standard missing values`"
   ]
  },
  {
   "cell_type": "code",
   "execution_count": 22,
   "metadata": {},
   "outputs": [
    {
     "data": {
      "text/plain": [
       "array(['GB', 'US', 'CA', 'AU', 'NO', 'IT', 'DE', 'IE', 'MX', 'ES', 'SE',\n",
       "       'FR', 'NL', 'NZ', 'CH', 'AT', 'DK', 'BE', 'HK', 'LU', 'EU', 'SG',\n",
       "       'JP'], dtype=object)"
      ]
     },
     "execution_count": 22,
     "metadata": {},
     "output_type": "execute_result"
    }
   ],
   "source": [
    "# Non-Standard Missing Value\n",
    "# Column : country\n",
    "\n",
    "df['country'].unique()"
   ]
  },
  {
   "cell_type": "markdown",
   "metadata": {},
   "source": [
    "Based on result above, each unique entry in `country` makes sense and in accordance to the column description.\\\n",
    "Hereby, I declared the column is free from any `Non-standard missing values`"
   ]
  },
  {
   "cell_type": "code",
   "execution_count": 23,
   "metadata": {},
   "outputs": [
    {
     "data": {
      "text/plain": [
       "count      378661.0\n",
       "mean         6995.7\n",
       "std         78374.5\n",
       "min             0.0\n",
       "25%            16.7\n",
       "50%           395.0\n",
       "75%          3046.0\n",
       "max      20338986.3\n",
       "Name: usd pledged, dtype: float64"
      ]
     },
     "execution_count": 23,
     "metadata": {},
     "output_type": "execute_result"
    }
   ],
   "source": [
    "# Non-Standard Missing Value\n",
    "# Column : usd pledged\n",
    "\n",
    "df['usd pledged'].describe().round(1)"
   ]
  },
  {
   "cell_type": "markdown",
   "metadata": {},
   "source": [
    "Based on result above, value entry in `usd pledged` makes sense and in accordance to the column description.\\\n",
    "Hereby, I declared the column is free from any `Non-standard missing values`"
   ]
  },
  {
   "cell_type": "code",
   "execution_count": 24,
   "metadata": {},
   "outputs": [
    {
     "data": {
      "text/plain": [
       "count      378661.0\n",
       "mean         9058.9\n",
       "std         90973.3\n",
       "min             0.0\n",
       "25%            31.0\n",
       "50%           624.3\n",
       "75%          4050.0\n",
       "max      20338986.3\n",
       "Name: usd_pledged_real, dtype: float64"
      ]
     },
     "execution_count": 24,
     "metadata": {},
     "output_type": "execute_result"
    }
   ],
   "source": [
    "# Non-Standard Missing Value\n",
    "# Column : usd_pledged_real\n",
    "\n",
    "df['usd_pledged_real'].describe().round(1)"
   ]
  },
  {
   "cell_type": "markdown",
   "metadata": {},
   "source": [
    "Based on result above, value entry in `usd_pledged_real` makes sense and in accordance to the column description.\\\n",
    "Hereby, I declared the column is free from any `Non-standard missing values`"
   ]
  },
  {
   "cell_type": "code",
   "execution_count": 25,
   "metadata": {},
   "outputs": [
    {
     "data": {
      "text/plain": [
       "count       378661.0\n",
       "mean         45454.4\n",
       "std        1152950.1\n",
       "min              0.0\n",
       "25%           2000.0\n",
       "50%           5500.0\n",
       "75%          15500.0\n",
       "max      166361390.7\n",
       "Name: usd_goal_real, dtype: float64"
      ]
     },
     "execution_count": 25,
     "metadata": {},
     "output_type": "execute_result"
    }
   ],
   "source": [
    "# Non-Standard Missing Value\n",
    "# Column : usd_goal_real\n",
    "\n",
    "df['usd_goal_real'].describe().round(1)"
   ]
  },
  {
   "cell_type": "markdown",
   "metadata": {},
   "source": [
    "Based on result above, value entry in `usd_goal_real` makes sense and in accordance to the column description.\\\n",
    "Hereby, I declared the column is free from any `Non-standard missing values`"
   ]
  },
  {
   "cell_type": "markdown",
   "metadata": {},
   "source": [
    "After all the cleaning process carried out, I will save the cleaned dataframe into new dataframe."
   ]
  },
  {
   "cell_type": "code",
   "execution_count": 26,
   "metadata": {},
   "outputs": [],
   "source": [
    "# Save cleaned dataframe\n",
    "df_cleaned = df"
   ]
  },
  {
   "cell_type": "code",
   "execution_count": 27,
   "metadata": {},
   "outputs": [
    {
     "data": {
      "text/plain": [
       "ID                  0\n",
       "name                0\n",
       "category            0\n",
       "main_category       0\n",
       "currency            0\n",
       "deadline            0\n",
       "goal                0\n",
       "launched            0\n",
       "pledged             0\n",
       "state               0\n",
       "backers             0\n",
       "country             0\n",
       "usd pledged         0\n",
       "usd_pledged_real    0\n",
       "usd_goal_real       0\n",
       "dtype: int64"
      ]
     },
     "execution_count": 27,
     "metadata": {},
     "output_type": "execute_result"
    }
   ],
   "source": [
    "# Cleaning Confirmation\n",
    "df_cleaned.isnull().sum()"
   ]
  },
  {
   "cell_type": "markdown",
   "metadata": {},
   "source": [
    "I can confirm that the dataset has been cleaned and free from `missing values`\\\n",
    "This cleaned dataframe will be used for further process of data exploration and data analysis"
   ]
  },
  {
   "cell_type": "markdown",
   "metadata": {},
   "source": [
    "## V. Data Exploration"
   ]
  },
  {
   "cell_type": "markdown",
   "metadata": {},
   "source": [
    "In this data exploration process, I'll try to look into the dataset and find something interisting.\n",
    "\n",
    "What cross my mind for the first time is, I want to know which country has most project listed in the kickstarter program.\\\n",
    "After that, I want to know which country has most its project backed by people."
   ]
  },
  {
   "cell_type": "code",
   "execution_count": 28,
   "metadata": {},
   "outputs": [
    {
     "data": {
      "text/html": [
       "<div>\n",
       "<style scoped>\n",
       "    .dataframe tbody tr th:only-of-type {\n",
       "        vertical-align: middle;\n",
       "    }\n",
       "\n",
       "    .dataframe tbody tr th {\n",
       "        vertical-align: top;\n",
       "    }\n",
       "\n",
       "    .dataframe thead th {\n",
       "        text-align: right;\n",
       "    }\n",
       "</style>\n",
       "<table border=\"1\" class=\"dataframe\">\n",
       "  <thead>\n",
       "    <tr style=\"text-align: right;\">\n",
       "      <th></th>\n",
       "      <th>ID</th>\n",
       "    </tr>\n",
       "    <tr>\n",
       "      <th>country</th>\n",
       "      <th></th>\n",
       "    </tr>\n",
       "  </thead>\n",
       "  <tbody>\n",
       "    <tr>\n",
       "      <th>US</th>\n",
       "      <td>295365</td>\n",
       "    </tr>\n",
       "    <tr>\n",
       "      <th>GB</th>\n",
       "      <td>34132</td>\n",
       "    </tr>\n",
       "    <tr>\n",
       "      <th>CA</th>\n",
       "      <td>14962</td>\n",
       "    </tr>\n",
       "    <tr>\n",
       "      <th>AU</th>\n",
       "      <td>7950</td>\n",
       "    </tr>\n",
       "    <tr>\n",
       "      <th>DE</th>\n",
       "      <td>4171</td>\n",
       "    </tr>\n",
       "    <tr>\n",
       "      <th>FR</th>\n",
       "      <td>2939</td>\n",
       "    </tr>\n",
       "    <tr>\n",
       "      <th>IT</th>\n",
       "      <td>2878</td>\n",
       "    </tr>\n",
       "    <tr>\n",
       "      <th>NL</th>\n",
       "      <td>2868</td>\n",
       "    </tr>\n",
       "    <tr>\n",
       "      <th>ES</th>\n",
       "      <td>2276</td>\n",
       "    </tr>\n",
       "    <tr>\n",
       "      <th>SE</th>\n",
       "      <td>1788</td>\n",
       "    </tr>\n",
       "  </tbody>\n",
       "</table>\n",
       "</div>"
      ],
      "text/plain": [
       "             ID\n",
       "country        \n",
       "US       295365\n",
       "GB        34132\n",
       "CA        14962\n",
       "AU         7950\n",
       "DE         4171\n",
       "FR         2939\n",
       "IT         2878\n",
       "NL         2868\n",
       "ES         2276\n",
       "SE         1788"
      ]
     },
     "execution_count": 28,
     "metadata": {},
     "output_type": "execute_result"
    }
   ],
   "source": [
    "# Shows 10 countries with most project listed on kickstarter\n",
    "df_cleaned.groupby(['country'])[['ID']].count().sort_values(by='ID', ascending=False).head(10)"
   ]
  },
  {
   "cell_type": "code",
   "execution_count": 29,
   "metadata": {},
   "outputs": [
    {
     "data": {
      "text/html": [
       "<div>\n",
       "<style scoped>\n",
       "    .dataframe tbody tr th:only-of-type {\n",
       "        vertical-align: middle;\n",
       "    }\n",
       "\n",
       "    .dataframe tbody tr th {\n",
       "        vertical-align: top;\n",
       "    }\n",
       "\n",
       "    .dataframe thead th {\n",
       "        text-align: right;\n",
       "    }\n",
       "</style>\n",
       "<table border=\"1\" class=\"dataframe\">\n",
       "  <thead>\n",
       "    <tr style=\"text-align: right;\">\n",
       "      <th></th>\n",
       "      <th>backers</th>\n",
       "    </tr>\n",
       "    <tr>\n",
       "      <th>country</th>\n",
       "      <th></th>\n",
       "    </tr>\n",
       "  </thead>\n",
       "  <tbody>\n",
       "    <tr>\n",
       "      <th>US</th>\n",
       "      <td>33089856</td>\n",
       "    </tr>\n",
       "    <tr>\n",
       "      <th>GB</th>\n",
       "      <td>2859587</td>\n",
       "    </tr>\n",
       "    <tr>\n",
       "      <th>CA</th>\n",
       "      <td>1302563</td>\n",
       "    </tr>\n",
       "    <tr>\n",
       "      <th>AU</th>\n",
       "      <td>642816</td>\n",
       "    </tr>\n",
       "    <tr>\n",
       "      <th>DE</th>\n",
       "      <td>410147</td>\n",
       "    </tr>\n",
       "    <tr>\n",
       "      <th>FR</th>\n",
       "      <td>350214</td>\n",
       "    </tr>\n",
       "    <tr>\n",
       "      <th>NL</th>\n",
       "      <td>228251</td>\n",
       "    </tr>\n",
       "    <tr>\n",
       "      <th>SE</th>\n",
       "      <td>169344</td>\n",
       "    </tr>\n",
       "    <tr>\n",
       "      <th>ES</th>\n",
       "      <td>164227</td>\n",
       "    </tr>\n",
       "    <tr>\n",
       "      <th>IT</th>\n",
       "      <td>155339</td>\n",
       "    </tr>\n",
       "  </tbody>\n",
       "</table>\n",
       "</div>"
      ],
      "text/plain": [
       "          backers\n",
       "country          \n",
       "US       33089856\n",
       "GB        2859587\n",
       "CA        1302563\n",
       "AU         642816\n",
       "DE         410147\n",
       "FR         350214\n",
       "NL         228251\n",
       "SE         169344\n",
       "ES         164227\n",
       "IT         155339"
      ]
     },
     "execution_count": 29,
     "metadata": {},
     "output_type": "execute_result"
    }
   ],
   "source": [
    "# Shows 10 countries with most project backed by people\n",
    "df_cleaned.groupby(['country'])[['backers']].sum().sort_values(by='backers', ascending=False).head(10)"
   ]
  },
  {
   "cell_type": "markdown",
   "metadata": {},
   "source": [
    "From result above, We can tell that `US` is the `country with most project listed` in the kickstarter.com and also `most project backed by people`.\n",
    "\n",
    "Seeing `US` as the country with most project listed and most project backed, I decide to focus in `US` even more.\n",
    "\n",
    "So, I will query current dataset to only listed project from `US`. Also, I consider to use only these column in the dataframe.\n",
    "\n",
    "| Column             | Description                                                                            |\n",
    "| ------------------ | -------------------------------------------------------------------------------------- |\n",
    "| ID                 | Unique ID of a project                                                                 |\n",
    "| name               | Name of the project                                                                    |\n",
    "| main\\_category     | Main category of the project                                                           |\n",
    "| usd\\_goal\\_real    | Shows the target amount of money set for the project (in usd)                          |\n",
    "| usd\\_pledged\\_real | Shows total amount of money backers give to the project creator (in usd)               |\n",
    "| backers            | Shows number of people who  pledge money to join creators in bringing projects to life |\n",
    "| state              | Shows state of the project                                                             |"
   ]
  },
  {
   "cell_type": "code",
   "execution_count": 30,
   "metadata": {},
   "outputs": [],
   "source": [
    "# US Sample dataframe\n",
    "df_US = df_cleaned.loc[\n",
    "    (df_cleaned['country']=='US')\n",
    "][['ID','name','main_category','usd_goal_real','usd_pledged_real','backers','state']]"
   ]
  },
  {
   "cell_type": "code",
   "execution_count": 31,
   "metadata": {},
   "outputs": [
    {
     "data": {
      "text/html": [
       "<div>\n",
       "<style scoped>\n",
       "    .dataframe tbody tr th:only-of-type {\n",
       "        vertical-align: middle;\n",
       "    }\n",
       "\n",
       "    .dataframe tbody tr th {\n",
       "        vertical-align: top;\n",
       "    }\n",
       "\n",
       "    .dataframe thead th {\n",
       "        text-align: right;\n",
       "    }\n",
       "</style>\n",
       "<table border=\"1\" class=\"dataframe\">\n",
       "  <thead>\n",
       "    <tr style=\"text-align: right;\">\n",
       "      <th></th>\n",
       "      <th>ID</th>\n",
       "      <th>name</th>\n",
       "      <th>main_category</th>\n",
       "      <th>usd_goal_real</th>\n",
       "      <th>usd_pledged_real</th>\n",
       "      <th>backers</th>\n",
       "      <th>state</th>\n",
       "    </tr>\n",
       "  </thead>\n",
       "  <tbody>\n",
       "    <tr>\n",
       "      <th>120139</th>\n",
       "      <td>1610199525</td>\n",
       "      <td>The Story-Eaters Traveling Puppet Show</td>\n",
       "      <td>Art</td>\n",
       "      <td>5000.0</td>\n",
       "      <td>5679.0</td>\n",
       "      <td>78</td>\n",
       "      <td>successful</td>\n",
       "    </tr>\n",
       "    <tr>\n",
       "      <th>102882</th>\n",
       "      <td>1522965125</td>\n",
       "      <td>Set up</td>\n",
       "      <td>Film &amp; Video</td>\n",
       "      <td>20000.0</td>\n",
       "      <td>245.0</td>\n",
       "      <td>2</td>\n",
       "      <td>failed</td>\n",
       "    </tr>\n",
       "    <tr>\n",
       "      <th>82316</th>\n",
       "      <td>1418511058</td>\n",
       "      <td>Studio for Professional Graffiti Artist</td>\n",
       "      <td>Art</td>\n",
       "      <td>12000.0</td>\n",
       "      <td>0.0</td>\n",
       "      <td>0</td>\n",
       "      <td>failed</td>\n",
       "    </tr>\n",
       "    <tr>\n",
       "      <th>108747</th>\n",
       "      <td>1552842819</td>\n",
       "      <td>Land of Hope and Dreams</td>\n",
       "      <td>Photography</td>\n",
       "      <td>7000.0</td>\n",
       "      <td>321.0</td>\n",
       "      <td>11</td>\n",
       "      <td>failed</td>\n",
       "    </tr>\n",
       "    <tr>\n",
       "      <th>50417</th>\n",
       "      <td>1256792051</td>\n",
       "      <td>\"Klean Boobs\" Breast Cancer Awareness Soaps</td>\n",
       "      <td>Crafts</td>\n",
       "      <td>2000.0</td>\n",
       "      <td>2070.0</td>\n",
       "      <td>68</td>\n",
       "      <td>successful</td>\n",
       "    </tr>\n",
       "    <tr>\n",
       "      <th>377812</th>\n",
       "      <td>995815600</td>\n",
       "      <td>Music Transcription to Germany!</td>\n",
       "      <td>Music</td>\n",
       "      <td>1000.0</td>\n",
       "      <td>0.0</td>\n",
       "      <td>0</td>\n",
       "      <td>failed</td>\n",
       "    </tr>\n",
       "    <tr>\n",
       "      <th>97388</th>\n",
       "      <td>1494607737</td>\n",
       "      <td>Schoolyard Slugger Android/iOS Game</td>\n",
       "      <td>Games</td>\n",
       "      <td>12500.0</td>\n",
       "      <td>36.0</td>\n",
       "      <td>3</td>\n",
       "      <td>failed</td>\n",
       "    </tr>\n",
       "    <tr>\n",
       "      <th>31457</th>\n",
       "      <td>1159946234</td>\n",
       "      <td>\"Bring Me The Head Of Lance Henriksen\" - Life ...</td>\n",
       "      <td>Film &amp; Video</td>\n",
       "      <td>20000.0</td>\n",
       "      <td>594.0</td>\n",
       "      <td>8</td>\n",
       "      <td>failed</td>\n",
       "    </tr>\n",
       "    <tr>\n",
       "      <th>125139</th>\n",
       "      <td>163531523</td>\n",
       "      <td>Missy: A Feature Film</td>\n",
       "      <td>Film &amp; Video</td>\n",
       "      <td>25000.0</td>\n",
       "      <td>2480.0</td>\n",
       "      <td>28</td>\n",
       "      <td>failed</td>\n",
       "    </tr>\n",
       "    <tr>\n",
       "      <th>310261</th>\n",
       "      <td>650312321</td>\n",
       "      <td>\"Freed Men: Oppressed by the Oppressed\" a docu...</td>\n",
       "      <td>Film &amp; Video</td>\n",
       "      <td>20000.0</td>\n",
       "      <td>576.0</td>\n",
       "      <td>8</td>\n",
       "      <td>failed</td>\n",
       "    </tr>\n",
       "  </tbody>\n",
       "</table>\n",
       "</div>"
      ],
      "text/plain": [
       "                ID                                               name  \\\n",
       "120139  1610199525             The Story-Eaters Traveling Puppet Show   \n",
       "102882  1522965125                                             Set up   \n",
       "82316   1418511058            Studio for Professional Graffiti Artist   \n",
       "108747  1552842819                            Land of Hope and Dreams   \n",
       "50417   1256792051        \"Klean Boobs\" Breast Cancer Awareness Soaps   \n",
       "377812   995815600                    Music Transcription to Germany!   \n",
       "97388   1494607737                Schoolyard Slugger Android/iOS Game   \n",
       "31457   1159946234  \"Bring Me The Head Of Lance Henriksen\" - Life ...   \n",
       "125139   163531523                              Missy: A Feature Film   \n",
       "310261   650312321  \"Freed Men: Oppressed by the Oppressed\" a docu...   \n",
       "\n",
       "       main_category  usd_goal_real  usd_pledged_real  backers       state  \n",
       "120139           Art         5000.0            5679.0       78  successful  \n",
       "102882  Film & Video        20000.0             245.0        2      failed  \n",
       "82316            Art        12000.0               0.0        0      failed  \n",
       "108747   Photography         7000.0             321.0       11      failed  \n",
       "50417         Crafts         2000.0            2070.0       68  successful  \n",
       "377812         Music         1000.0               0.0        0      failed  \n",
       "97388          Games        12500.0              36.0        3      failed  \n",
       "31457   Film & Video        20000.0             594.0        8      failed  \n",
       "125139  Film & Video        25000.0            2480.0       28      failed  \n",
       "310261  Film & Video        20000.0             576.0        8      failed  "
      ]
     },
     "execution_count": 31,
     "metadata": {},
     "output_type": "execute_result"
    }
   ],
   "source": [
    "# Check the dataframe\n",
    "df_US.sample(10)"
   ]
  },
  {
   "cell_type": "markdown",
   "metadata": {},
   "source": [
    "From `US` dataset, let's see how many project are in each `main_category` and how many project in each `state`.\n",
    "\n",
    "To make more compelling analysis, I will use graph in the process."
   ]
  },
  {
   "cell_type": "code",
   "execution_count": 32,
   "metadata": {},
   "outputs": [
    {
     "data": {
      "image/png": "[encoded data removed]",
      "text/plain": [
       "<Figure size 1440x1080 with 1 Axes>"
      ]
     },
     "metadata": {
      "needs_background": "light"
     },
     "output_type": "display_data"
    }
   ],
   "source": [
    "# Project count in each main-category\n",
    "\n",
    "# Set figure size\n",
    "fig = plt.figure(figsize=(20, 15))\n",
    "barWidth= 0.5\n",
    "\n",
    "# Set axis value\n",
    "dictionary1 = df_US['main_category'].value_counts().to_dict()\n",
    "x = dictionary1.keys()\n",
    "y = dictionary1.values()\n",
    "\n",
    "# Plotting the axis\n",
    "plot1 = plt.bar(x, y, width=barWidth)\n",
    "\n",
    "# Labeling\n",
    "plt.title('Main Category', fontweight = 'bold', fontsize = '20')\n",
    "plt.xlabel('Main Category Clasification', fontweight = 'bold', fontsize = '20')\n",
    "plt.ylabel('Count', fontweight = 'bold', fontsize = '20')\n",
    "\n",
    "# Attach a text label above each bar displaying its height\n",
    "for bar in plot1:\n",
    "    plt.annotate(bar.get_height(),xy=(bar.get_x(), bar.get_height()+200,), fontsize=10)"
   ]
  },
  {
   "cell_type": "markdown",
   "metadata": {},
   "source": [
    "From above graph, We can see that  most project are `Film & Video` related project.  "
   ]
  },
  {
   "cell_type": "code",
   "execution_count": 33,
   "metadata": {},
   "outputs": [
    {
     "data": {
      "image/png": "[encoded data removed]",
      "text/plain": [
       "<Figure size 1080x720 with 1 Axes>"
      ]
     },
     "metadata": {
      "needs_background": "light"
     },
     "output_type": "display_data"
    }
   ],
   "source": [
    "# Project count in each state\n",
    "\n",
    "# Set figure size\n",
    "fig = plt.figure(figsize=(15, 10))\n",
    "barWidth= 0.5\n",
    "\n",
    "# Set axis value\n",
    "dictionary2 = df_US['state'].value_counts().to_dict()\n",
    "x = dictionary2.keys()\n",
    "y = dictionary2.values()\n",
    "\n",
    "# Plotting the axis\n",
    "plot2 = plt.bar(x, y, width=barWidth)\n",
    "\n",
    "# Labeling\n",
    "plt.title('State', fontweight = 'bold', fontsize = '20')\n",
    "plt.xlabel('State Clasification', fontweight = 'bold', fontsize = '20')\n",
    "plt.ylabel('Count', fontweight = 'bold', fontsize = '20')\n",
    "\n",
    "# Attach a text label above each bar displaying its height\n",
    "for bar in plot2:\n",
    "    plt.annotate(bar.get_height(),xy=(bar.get_x() + 0.15, bar.get_height()+1500,), fontsize=10)"
   ]
  },
  {
   "cell_type": "markdown",
   "metadata": {},
   "source": [
    "To my surprise, although `US` listed most project in `kickstarter.com`, the amount of `failed project is higher than successful project`."
   ]
  },
  {
   "cell_type": "markdown",
   "metadata": {},
   "source": [
    "### V.1 Measure of Central Tendency (Distribution of the Dataset)"
   ]
  },
  {
   "cell_type": "markdown",
   "metadata": {},
   "source": [
    "In this part of process, I will find out how the data is distributed inside the dataset.\n",
    "This will give us general understanding of `dataset shape` and `typical value` in the dataset.\n",
    "\n",
    "`Descriptive Statistic` will be used to accomplish this task.\\\n",
    "I will find `Measure of Central Tendency` and `Measure of Variance` of the dataset.\\\n",
    "After that, I will plot it in the graph.\n",
    "\n",
    "In `Descriptive Statistic`, I will focus on column with `numeric` datatype.\\\n",
    "So, my focus will be on `usd_goal_real, usd_pledged_real, backers` column"
   ]
  },
  {
   "cell_type": "code",
   "execution_count": 34,
   "metadata": {},
   "outputs": [
    {
     "name": "stdout",
     "output_type": "stream",
     "text": [
      "Measure of Central Tendency - usd_goal_real \n",
      "\n",
      "Min :  0.01\n",
      "Mean :  43677.76\n",
      "Median :  5000.0\n",
      "Mode :  0    5000.0\n",
      "Name: usd_goal_real, dtype: float64\n",
      "Max :  100000000.0\n"
     ]
    }
   ],
   "source": [
    "# Finding Measure of Central Tendency\n",
    "# Column : usd_goal_real\n",
    "\n",
    "print('Measure of Central Tendency - usd_goal_real ')\n",
    "print()\n",
    "print(f'Min : ', df_US['usd_goal_real'].min())\n",
    "print(f'Mean : ', df_US['usd_goal_real'].mean().round(2))\n",
    "print(f'Median : ', df_US['usd_goal_real'].median())\n",
    "print(f'Mode : ', df_US['usd_goal_real'].mode())\n",
    "print(f'Max : ',df_US['usd_goal_real'].max())"
   ]
  },
  {
   "cell_type": "markdown",
   "metadata": {},
   "source": [
    "Based on result above, We can see that `usd_goal_real` column has `almost identical` value of `mean, median, and mode`.\\\n",
    "With `mean` value slightly less than `median and mode` value, the distribution will be slightly `skewed left`.\n",
    "\n",
    "Notice there is great gape between `min` value and `max` value. This can indicate that this distribution is `not normally distributed`."
   ]
  },
  {
   "cell_type": "code",
   "execution_count": 35,
   "metadata": {},
   "outputs": [
    {
     "name": "stdout",
     "output_type": "stream",
     "text": [
      "Measure of Central Tendency - usd_pledged_real\n",
      "\n",
      "Min :  0.0\n",
      "Mean :  9612.26\n",
      "Median :  725.0\n",
      "Mode :  0    0.0\n",
      "Name: usd_pledged_real, dtype: float64\n",
      "Max :  20338986.27\n"
     ]
    }
   ],
   "source": [
    "# Finding Measure of Central Tendency\n",
    "# Column : usd_pledged_real\n",
    "\n",
    "print('Measure of Central Tendency - usd_pledged_real')\n",
    "print()\n",
    "print(f'Min : ', df_US['usd_pledged_real'].min())\n",
    "print(f'Mean : ', df_US['usd_pledged_real'].mean().round(2))\n",
    "print(f'Median : ', df_US['usd_pledged_real'].median())\n",
    "print(f'Mode : ', df_US['usd_pledged_real'].mode())\n",
    "print(f'Max : ',df_US['usd_pledged_real'].max())"
   ]
  },
  {
   "cell_type": "markdown",
   "metadata": {},
   "source": [
    "Based on result above, We can see that `usd_pledged_real` column has `different` value of `mean, median, and mode`.\\\n",
    "With `mean` far away to the right of `median and mode`, the distribution will very `right skewed`\n",
    "\n",
    "Notice there is great gape between `min` value and `max` value. This can indicate that this distribution is `not normally distributed`."
   ]
  },
  {
   "cell_type": "code",
   "execution_count": 36,
   "metadata": {},
   "outputs": [
    {
     "name": "stdout",
     "output_type": "stream",
     "text": [
      "Measure of Central Tendency - backers\n",
      "\n",
      "Min :  0\n",
      "Mean :  112.03\n",
      "Median :  13.0\n",
      "Mode :  0    0\n",
      "Name: backers, dtype: int64\n",
      "Max :  219382\n"
     ]
    }
   ],
   "source": [
    "# Finding Measure of Central Tendency\n",
    "# Column : backers\n",
    "\n",
    "print('Measure of Central Tendency - backers')\n",
    "print()\n",
    "print(f'Min : ', df_US['backers'].min())\n",
    "print(f'Mean : ', df_US['backers'].mean().round(2))\n",
    "print(f'Median : ', df_US['backers'].median())\n",
    "print(f'Mode : ', df_US['backers'].mode())\n",
    "print(f'Max : ',df_US['backers'].max())"
   ]
  },
  {
   "cell_type": "markdown",
   "metadata": {},
   "source": [
    "Based on result above, We can see that `backers` column has `different` value of `mean, median, and mode`.\\\n",
    "With `mean` far away to the right of `median and mode`, the distribution will very `right skewed`\n",
    "\n",
    "Notice there is great gape between `min` value and `max` value. This can indicate that this distribution is `not normally distributed`."
   ]
  },
  {
   "cell_type": "markdown",
   "metadata": {},
   "source": [
    "### V.2 Measure of Variance (Distribution of the Dataset cont.)"
   ]
  },
  {
   "cell_type": "markdown",
   "metadata": {},
   "source": [
    "For measure of variance, I will calculate the `Range, Quartile, Variance, and Standard Deviation` of each column in the dataset."
   ]
  },
  {
   "cell_type": "code",
   "execution_count": 37,
   "metadata": {},
   "outputs": [
    {
     "name": "stdout",
     "output_type": "stream",
     "text": [
      "Measure of Variance - usd_goal_real \n",
      "\n",
      "Range :  99999999.99\n",
      "1st Quartile :  2000.0\n",
      "3rd Quartile :  15000.0\n",
      "Variance :  1217131876694.45\n",
      "Std. Deviation :  1103237.0\n"
     ]
    }
   ],
   "source": [
    "# Finding Measure of Variance\n",
    "# Column : usd_goal_real\n",
    "\n",
    "print('Measure of Variance - usd_goal_real ')\n",
    "print()\n",
    "\n",
    "print(f'Range : ', df_US['usd_goal_real'].max() - df_US['usd_goal_real'].min())\n",
    "print(f'1st Quartile : ', df_US['usd_goal_real'].quantile(0.25))\n",
    "print(f'3rd Quartile : ', df_US['usd_goal_real'].quantile(0.75))\n",
    "print(f'Variance : ', df_US['usd_goal_real'].var().round(2))\n",
    "print(f'Std. Deviation : ', df_US['usd_goal_real'].std().round(2))"
   ]
  },
  {
   "cell_type": "markdown",
   "metadata": {},
   "source": [
    "Based on result above, We can see that `usd_goal_real` column has \n",
    "- Extreme `Range` value, this is caused by extreme difference bewtween min value and max value\n",
    "- Extreme `Variance and Std. Deviation` value, this will lead to high spread of the data inside the column\n",
    "- This may indicate lots of `Outlier` in the dataset"
   ]
  },
  {
   "cell_type": "code",
   "execution_count": 38,
   "metadata": {},
   "outputs": [
    {
     "name": "stdout",
     "output_type": "stream",
     "text": [
      "Measure of Variance - usd_pledged_real\n",
      "\n",
      "Range :  20338986.27\n",
      "1st Quartile :  41.0\n",
      "3rd Quartile :  4368.0\n",
      "Variance :  9801091726.55\n",
      "Std. Deviation :  99000.46\n"
     ]
    }
   ],
   "source": [
    "# Finding Measure of Variance\n",
    "# Column : usd_pledged_real\n",
    "\n",
    "print('Measure of Variance - usd_pledged_real')\n",
    "print()\n",
    "\n",
    "print(f'Range : ', df_US['usd_pledged_real'].max() - df_US['usd_pledged_real'].min())\n",
    "print(f'1st Quartile : ', df_US['usd_pledged_real'].quantile(0.25))\n",
    "print(f'3rd Quartile : ', df_US['usd_pledged_real'].quantile(0.75))\n",
    "print(f'Variance : ', df_US['usd_pledged_real'].var().round(2))\n",
    "print(f'Std. Deviation : ', df_US['usd_pledged_real'].std().round(2))"
   ]
  },
  {
   "cell_type": "markdown",
   "metadata": {},
   "source": [
    "Based on result above, We can see that `usd_pledged_real` column has \n",
    "- Extreme `Range` value, this is caused by extreme difference bewtween min value and max value\n",
    "- Extreme `Variance and Std. Deviation` value, this will lead to high spread of the data inside the column\n",
    "- This may indicate lots of `Outlier` in the dataset"
   ]
  },
  {
   "cell_type": "code",
   "execution_count": 39,
   "metadata": {},
   "outputs": [
    {
     "name": "stdout",
     "output_type": "stream",
     "text": [
      "Measure of Variance - backers\n",
      "\n",
      "Range :  219382\n",
      "1st Quartile :  2.0\n",
      "3rd Quartile :  59.0\n",
      "Variance :  962760.93\n",
      "Std. Deviation :  981.2\n"
     ]
    }
   ],
   "source": [
    "# Finding Measure of Variance\n",
    "# Column : backers\n",
    "\n",
    "print('Measure of Variance - backers')\n",
    "print()\n",
    "print(f'Range : ', df_US['backers'].max() - df_US['backers'].min())\n",
    "print(f'1st Quartile : ', df_US['backers'].quantile(0.25))\n",
    "print(f'3rd Quartile : ', df_US['backers'].quantile(0.75))\n",
    "print(f'Variance : ', df_US['backers'].var().round(2))\n",
    "print(f'Std. Deviation : ', df_US['backers'].std().round(2))"
   ]
  },
  {
   "cell_type": "markdown",
   "metadata": {},
   "source": [
    "Based on result above, We can see that `backers` column has \n",
    "- Extreme `Range` value, this is caused by extreme difference bewtween min value and max value\n",
    "- Extreme `Variance and Std. Deviation` value, this will lead to high spread of the data inside the column\n",
    "- This may indicate lots of `Outlier` in the dataset"
   ]
  },
  {
   "cell_type": "markdown",
   "metadata": {},
   "source": [
    "### Distribution Plots\n",
    "Now let's see those distribution in graph. \n",
    "But, due to those data is highly spread and has extreme range, I will log formatted those dataset first."
   ]
  },
  {
   "cell_type": "code",
   "execution_count": 40,
   "metadata": {},
   "outputs": [
    {
     "name": "stderr",
     "output_type": "stream",
     "text": [
      "C:\\Users\\alam3\\AppData\\Local\\Packages\\PythonSoftwareFoundation.Python.3.10_qbz5n2kfra8p0\\LocalCache\\local-packages\\Python310\\site-packages\\pandas\\core\\arraylike.py:397: RuntimeWarning: divide by zero encountered in log\n",
      "  result = getattr(ufunc, method)(*inputs, **kwargs)\n"
     ]
    }
   ],
   "source": [
    "# Log transforma all dataset\n",
    "\n",
    "log_goal = np.log(df_US['usd_goal_real'])\n",
    "log_pledged = np.log(df_US['usd_pledged_real'])\n",
    "log_backers = np.log(df_US['backers'])"
   ]
  },
  {
   "cell_type": "code",
   "execution_count": 41,
   "metadata": {},
   "outputs": [
    {
     "data": {
      "image/png": "[encoded data removed]",
      "text/plain": [
       "<Figure size 1440x1080 with 3 Axes>"
      ]
     },
     "metadata": {
      "needs_background": "light"
     },
     "output_type": "display_data"
    }
   ],
   "source": [
    "# Plotting\n",
    "fig, ax = plt.subplots(ncols=3, figsize=(20,15))\n",
    "\n",
    "sns.histplot(log_goal, kde=True, ax=ax[0])\n",
    "ax[0].axvline(log_goal.mean(), linestyle='dashed', label='mean', color='orange')\n",
    "ax[0].axvline(log_goal.median(), linestyle='dashed', label='median', color='green')\n",
    "\n",
    "sns.histplot(log_pledged, kde=True, ax=ax[1])\n",
    "ax[1].axvline(log_pledged.mean(), linestyle='dashed', label='mean', color='red')\n",
    "ax[1].axvline(log_pledged.median(), linestyle='dashed', label='median', color='green')\n",
    "\n",
    "sns.histplot(log_backers, kde=True, ax=ax[2])\n",
    "ax[2].axvline(log_backers.mean(), linestyle='dashed', label='mean', color='orange')\n",
    "ax[2].axvline(log_backers.median(), linestyle='dashed', label='median', color='green')\n",
    "\n",
    "plt.legend()\n",
    "plt.show()"
   ]
  },
  {
   "cell_type": "markdown",
   "metadata": {},
   "source": [
    "After doing log transformation to the dataset, We can see that the distribution of data in `usd_goal_real` column is getting closer to `bellshape curve`.\n",
    "\n",
    "Let's see the log transformed `Measure of Central Tendency.`"
   ]
  },
  {
   "cell_type": "code",
   "execution_count": 42,
   "metadata": {},
   "outputs": [
    {
     "name": "stdout",
     "output_type": "stream",
     "text": [
      "Measure of Central Tendency - log_goal\n",
      "\n",
      "Mean :  8.64\n",
      "Median :  8.517193191416238\n",
      "Mode :  0    8.517193\n",
      "Name: usd_goal_real, dtype: float64\n"
     ]
    }
   ],
   "source": [
    "# Measure of Central Tendency\n",
    "# Column : log_goal\n",
    "\n",
    "print('Measure of Central Tendency - log_goal')\n",
    "print()\n",
    "print(f'Mean : ', log_goal.mean().round(2))\n",
    "print(f'Median : ', log_goal.median())\n",
    "print(f'Mode : ', log_goal.mode())"
   ]
  },
  {
   "cell_type": "code",
   "execution_count": 43,
   "metadata": {},
   "outputs": [
    {
     "name": "stdout",
     "output_type": "stream",
     "text": [
      "Measure of Central Tendency - log_pledged\n",
      "\n",
      "Mean :  -inf\n",
      "Median :  6.586171654854675\n",
      "Mode :  0   -inf\n",
      "Name: usd_pledged_real, dtype: float64\n"
     ]
    }
   ],
   "source": [
    "# Measure of Central Tendency\n",
    "# Column : log_pledged\n",
    "\n",
    "print('Measure of Central Tendency - log_pledged')\n",
    "print()\n",
    "print(f'Mean : ', log_pledged.mean().round(2))\n",
    "print(f'Median : ', log_pledged.median())\n",
    "print(f'Mode : ', log_pledged.mode())"
   ]
  },
  {
   "cell_type": "code",
   "execution_count": 44,
   "metadata": {},
   "outputs": [
    {
     "name": "stdout",
     "output_type": "stream",
     "text": [
      "Measure of Central Tendency - log_backers\n",
      "\n",
      "Mean :  -inf\n",
      "Median :  2.5649493574615367\n",
      "Mode :  0   -inf\n",
      "Name: backers, dtype: float64\n"
     ]
    }
   ],
   "source": [
    "# Measure of Central Tendency\n",
    "# Column : log_backers\n",
    "\n",
    "print('Measure of Central Tendency - log_backers')\n",
    "print()\n",
    "print(f'Mean : ', log_backers.mean().round(2))\n",
    "print(f'Median : ', log_backers.median())\n",
    "print(f'Mode : ', log_backers.mode())"
   ]
  },
  {
   "cell_type": "markdown",
   "metadata": {},
   "source": [
    "It's confirmed, after log transformation, the only column that able to get close to `normal distribution` is `usd_goal_real` column.\\\n",
    "We can see that the value of of `Mean, Median, and Mode` are almost equal.\\\n",
    "With `sample size above 30` and `Measure of Central Tendency` tends to shows the same value, I can assume `usd_goal_real` column is `normmaly distributed.`"
   ]
  },
  {
   "cell_type": "markdown",
   "metadata": {},
   "source": [
    "### V.3 Hypothesis Testing"
   ]
  },
  {
   "cell_type": "markdown",
   "metadata": {},
   "source": [
    "From previous process, We know that only `log transformed usd_goal_real` column that is `normally distributed`.\\\n",
    "So, for `Hypothesis Testing`, I will try to make inference from this column.\n",
    "\n",
    "Before make any inference, let's see the log transformed column once again."
   ]
  },
  {
   "cell_type": "code",
   "execution_count": 45,
   "metadata": {},
   "outputs": [
    {
     "data": {
      "text/html": [
       "<div>\n",
       "<style scoped>\n",
       "    .dataframe tbody tr th:only-of-type {\n",
       "        vertical-align: middle;\n",
       "    }\n",
       "\n",
       "    .dataframe tbody tr th {\n",
       "        vertical-align: top;\n",
       "    }\n",
       "\n",
       "    .dataframe thead th {\n",
       "        text-align: right;\n",
       "    }\n",
       "</style>\n",
       "<table border=\"1\" class=\"dataframe\">\n",
       "  <thead>\n",
       "    <tr style=\"text-align: right;\">\n",
       "      <th></th>\n",
       "      <th>ID</th>\n",
       "      <th>name</th>\n",
       "      <th>main_category</th>\n",
       "      <th>usd_goal_real</th>\n",
       "      <th>usd_goal_log</th>\n",
       "      <th>state</th>\n",
       "    </tr>\n",
       "  </thead>\n",
       "  <tbody>\n",
       "    <tr>\n",
       "      <th>1</th>\n",
       "      <td>1000003930</td>\n",
       "      <td>Greeting From Earth: ZGAC Arts Capsule For ET</td>\n",
       "      <td>Film &amp; Video</td>\n",
       "      <td>30000.0</td>\n",
       "      <td>10.308953</td>\n",
       "      <td>failed</td>\n",
       "    </tr>\n",
       "    <tr>\n",
       "      <th>2</th>\n",
       "      <td>1000004038</td>\n",
       "      <td>Where is Hank?</td>\n",
       "      <td>Film &amp; Video</td>\n",
       "      <td>45000.0</td>\n",
       "      <td>10.714418</td>\n",
       "      <td>failed</td>\n",
       "    </tr>\n",
       "    <tr>\n",
       "      <th>3</th>\n",
       "      <td>1000007540</td>\n",
       "      <td>ToshiCapital Rekordz Needs Help to Complete Album</td>\n",
       "      <td>Music</td>\n",
       "      <td>5000.0</td>\n",
       "      <td>8.517193</td>\n",
       "      <td>failed</td>\n",
       "    </tr>\n",
       "    <tr>\n",
       "      <th>4</th>\n",
       "      <td>1000011046</td>\n",
       "      <td>Community Film Project: The Art of Neighborhoo...</td>\n",
       "      <td>Film &amp; Video</td>\n",
       "      <td>19500.0</td>\n",
       "      <td>9.878170</td>\n",
       "      <td>canceled</td>\n",
       "    </tr>\n",
       "    <tr>\n",
       "      <th>5</th>\n",
       "      <td>1000014025</td>\n",
       "      <td>Monarch Espresso Bar</td>\n",
       "      <td>Food</td>\n",
       "      <td>50000.0</td>\n",
       "      <td>10.819778</td>\n",
       "      <td>successful</td>\n",
       "    </tr>\n",
       "    <tr>\n",
       "      <th>6</th>\n",
       "      <td>1000023410</td>\n",
       "      <td>Support Solar Roasted Coffee &amp; Green Energy!  ...</td>\n",
       "      <td>Food</td>\n",
       "      <td>1000.0</td>\n",
       "      <td>6.907755</td>\n",
       "      <td>successful</td>\n",
       "    </tr>\n",
       "    <tr>\n",
       "      <th>7</th>\n",
       "      <td>1000030581</td>\n",
       "      <td>Chaser Strips. Our Strips make Shots their B*tch!</td>\n",
       "      <td>Food</td>\n",
       "      <td>25000.0</td>\n",
       "      <td>10.126631</td>\n",
       "      <td>failed</td>\n",
       "    </tr>\n",
       "    <tr>\n",
       "      <th>8</th>\n",
       "      <td>1000034518</td>\n",
       "      <td>SPIN - Premium Retractable In-Ear Headphones w...</td>\n",
       "      <td>Design</td>\n",
       "      <td>125000.0</td>\n",
       "      <td>11.736069</td>\n",
       "      <td>canceled</td>\n",
       "    </tr>\n",
       "    <tr>\n",
       "      <th>9</th>\n",
       "      <td>100004195</td>\n",
       "      <td>STUDIO IN THE SKY - A Documentary Feature Film...</td>\n",
       "      <td>Film &amp; Video</td>\n",
       "      <td>65000.0</td>\n",
       "      <td>11.082143</td>\n",
       "      <td>canceled</td>\n",
       "    </tr>\n",
       "    <tr>\n",
       "      <th>11</th>\n",
       "      <td>100005484</td>\n",
       "      <td>Lisa Lim New CD!</td>\n",
       "      <td>Music</td>\n",
       "      <td>12500.0</td>\n",
       "      <td>9.433484</td>\n",
       "      <td>successful</td>\n",
       "    </tr>\n",
       "  </tbody>\n",
       "</table>\n",
       "</div>"
      ],
      "text/plain": [
       "            ID                                               name  \\\n",
       "1   1000003930      Greeting From Earth: ZGAC Arts Capsule For ET   \n",
       "2   1000004038                                     Where is Hank?   \n",
       "3   1000007540  ToshiCapital Rekordz Needs Help to Complete Album   \n",
       "4   1000011046  Community Film Project: The Art of Neighborhoo...   \n",
       "5   1000014025                               Monarch Espresso Bar   \n",
       "6   1000023410  Support Solar Roasted Coffee & Green Energy!  ...   \n",
       "7   1000030581  Chaser Strips. Our Strips make Shots their B*tch!   \n",
       "8   1000034518  SPIN - Premium Retractable In-Ear Headphones w...   \n",
       "9    100004195  STUDIO IN THE SKY - A Documentary Feature Film...   \n",
       "11   100005484                                   Lisa Lim New CD!   \n",
       "\n",
       "   main_category  usd_goal_real  usd_goal_log       state  \n",
       "1   Film & Video        30000.0     10.308953      failed  \n",
       "2   Film & Video        45000.0     10.714418      failed  \n",
       "3          Music         5000.0      8.517193      failed  \n",
       "4   Film & Video        19500.0      9.878170    canceled  \n",
       "5           Food        50000.0     10.819778  successful  \n",
       "6           Food         1000.0      6.907755  successful  \n",
       "7           Food        25000.0     10.126631      failed  \n",
       "8         Design       125000.0     11.736069    canceled  \n",
       "9   Film & Video        65000.0     11.082143    canceled  \n",
       "11         Music        12500.0      9.433484  successful  "
      ]
     },
     "execution_count": 45,
     "metadata": {},
     "output_type": "execute_result"
    }
   ],
   "source": [
    "# Log transformed `usd_goal_real`\n",
    "\n",
    "df_log = df_US[['ID', 'name', 'main_category', 'usd_goal_real', 'state']]\n",
    "df_log.insert(4, 'usd_goal_log', log_goal)\n",
    "\n",
    "df_log.head(10)"
   ]
  },
  {
   "cell_type": "markdown",
   "metadata": {},
   "source": [
    "Now let's find something interisting in our dataset."
   ]
  },
  {
   "cell_type": "code",
   "execution_count": 46,
   "metadata": {},
   "outputs": [
    {
     "data": {
      "text/plain": [
       "main_category\n",
       "Technology      9.726707\n",
       "Design          9.187512\n",
       "Food            9.007434\n",
       "Games           8.931700\n",
       "Film & Video    8.924145\n",
       "Fashion         8.564142\n",
       "Journalism      8.478189\n",
       "Publishing      8.344984\n",
       "Theater         8.257609\n",
       "Music           8.245188\n",
       "Photography     8.195528\n",
       "Dance           8.162865\n",
       "Comics          8.095929\n",
       "Art             7.919961\n",
       "Crafts          7.691644\n",
       "Name: usd_goal_log, dtype: float64"
      ]
     },
     "execution_count": 46,
     "metadata": {},
     "output_type": "execute_result"
    }
   ],
   "source": [
    "df_log.groupby('main_category')['usd_goal_log'].mean().sort_values(ascending=False)"
   ]
  },
  {
   "cell_type": "markdown",
   "metadata": {},
   "source": [
    "Based on result above, mean values for some `main_category` are looks similar. \n",
    "\n",
    "For reminder, `usd_goal` has description like this:\n",
    "| Column             | Description                                                                            |\n",
    "| ------------------ | -------------------------------------------------------------------------------------- |\n",
    "| usd\\_goal\\_real    | Shows the target amount of money set for the project (in usd)                          |\n",
    "\n",
    "Most similar mean values is between `Games` and `Film & Video` categories.\n",
    "\n",
    "Let's run `Hypothesis Testing` to determine wether this value is significantly different or not.\n",
    "\n",
    "For comparing mean value between categories, I will utilize `T-test with 2 sample.`"
   ]
  },
  {
   "cell_type": "code",
   "execution_count": 47,
   "metadata": {},
   "outputs": [],
   "source": [
    "# Sample Preparation\n",
    "games = df_log[df_log['main_category']=='Games']\n",
    "film = df_log[df_log['main_category']=='Film & Video']"
   ]
  },
  {
   "cell_type": "code",
   "execution_count": 48,
   "metadata": {},
   "outputs": [
    {
     "data": {
      "text/plain": [
       "8.931700236375603"
      ]
     },
     "execution_count": 48,
     "metadata": {},
     "output_type": "execute_result"
    }
   ],
   "source": [
    "games['usd_goal_log'].mean()"
   ]
  },
  {
   "cell_type": "code",
   "execution_count": 49,
   "metadata": {},
   "outputs": [
    {
     "data": {
      "text/plain": [
       "8.924144789445938"
      ]
     },
     "execution_count": 49,
     "metadata": {},
     "output_type": "execute_result"
    }
   ],
   "source": [
    "film['usd_goal_log'].mean()"
   ]
  },
  {
   "cell_type": "markdown",
   "metadata": {},
   "source": [
    "### Hypothesis Notation\n",
    "\n",
    "> - Null Hypothesis : Mean value of `Games` category is relatively the same as Mean value of `Film & Videos` category\n",
    "> - Alt. Hypothesis : Mean value of `Games` category is significantly different with Mean value of `Film & Videos` category\n",
    "\n",
    "### Mathematical Notation\n",
    "\n",
    "> - **H0 : μ_Games = μ_Film & Videos**\n",
    "> - **H1 : μ_Games != μ_Film & Videos**"
   ]
  },
  {
   "cell_type": "markdown",
   "metadata": {},
   "source": [
    "### Level of Significance\n",
    "\n",
    "for this test, I determine the `level of significance` will be `5%`.\n",
    "\n",
    "> **ɑ = 0.05**"
   ]
  },
  {
   "cell_type": "markdown",
   "metadata": {},
   "source": [
    "### T-Test 2 Sample 2 Tailed"
   ]
  },
  {
   "cell_type": "code",
   "execution_count": 50,
   "metadata": {},
   "outputs": [
    {
     "name": "stdout",
     "output_type": "stream",
     "text": [
      "Probability value :  0.5637829147837504\n",
      "t-statistics :  0.5772342376951554\n"
     ]
    }
   ],
   "source": [
    "# t-test 2 sample 2 tailed\n",
    "t_stat, p_val = stats.ttest_ind(games['usd_goal_log'], film['usd_goal_log'])\n",
    "\n",
    "# ttest_ind is 2-tailed, so we dont need to divide by 2\n",
    "print('Probability value : ', p_val)\n",
    "print('t-statistics : ', t_stat)"
   ]
  },
  {
   "cell_type": "code",
   "execution_count": 51,
   "metadata": {},
   "outputs": [
    {
     "data": {
      "text/plain": [
       "False"
      ]
     },
     "execution_count": 51,
     "metadata": {},
     "output_type": "execute_result"
    }
   ],
   "source": [
    "# Compare P_value with Level of Significance\n",
    "\n",
    "p_val <= 0.05"
   ]
  },
  {
   "cell_type": "code",
   "execution_count": 52,
   "metadata": {},
   "outputs": [
    {
     "data": {
      "image/png": "[encoded data removed]",
      "text/plain": [
       "<Figure size 1440x1080 with 1 Axes>"
      ]
     },
     "metadata": {
      "needs_background": "light"
     },
     "output_type": "display_data"
    }
   ],
   "source": [
    "# Simulation\n",
    "games_pop = np.random.normal(games['usd_goal_log'].mean(), games['usd_goal_log'].std(),10000)\n",
    "film_pop = np.random.normal(film['usd_goal_log'].mean(), film['usd_goal_log'].std(),10000)\n",
    "\n",
    "# confidence interval\n",
    "# used cv = 0.05 since 2 tailed, we use 0.95 as it is. \n",
    "ci = stats.norm.interval(0.95, games['usd_goal_log'].mean(), games['usd_goal_log'].std())\n",
    "\n",
    "plt.figure(figsize=(20,15))\n",
    "sns.kdeplot(games_pop, label='Games population distribution', fill='blue', alpha=0.5)\n",
    "sns.kdeplot(film_pop, label='Film & Video population distribution', fill='orange' , alpha=0.5)\n",
    "\n",
    "# mean\n",
    "plt.axvline(games['usd_goal_log'].mean(), color='pink', linewidth=2, label='Games goal_log mean')\n",
    "plt.axvline(film['usd_goal_log'].mean(), color='red',  linewidth=2, label='Film & Video goal_log mean')\n",
    "\n",
    "plt.axvline(ci[1], color='green', linestyle='dashed', linewidth=2, label='Confidence Threshold of 95%')\n",
    "plt.axvline(ci[0], color='green', linestyle='dashed', linewidth=2)\n",
    "\n",
    "plt.axvline(games_pop.mean() + t_stat * games_pop.std(), color='black', linestyle='dashed', linewidth=2, label = 'Alternative Hypothesis')\n",
    "plt.axvline(film_pop.mean() - t_stat * film_pop.std(), color='black', linestyle='dashed', linewidth=2)\n",
    "\n",
    "plt.legend()\n",
    "plt.show()"
   ]
  },
  {
   "cell_type": "markdown",
   "metadata": {},
   "source": [
    "### Result Interpretation\n",
    "\n",
    "From P_value comparisson with Level of Significance, We can see that `P_value is greater than ɑ.`\\\n",
    "From the simulation graph, We can see that the `'Alternative Hypothesis Line' falls inside the 'Confidence Threshold of 95%'`\n",
    "\n",
    "So, I can conclude that `there is not enough evidence to reject the null hypothesis.`\\\n",
    "Which mean, Mean value of `Games` category is relatively the same as Mean value of `Film & Videos` category"
   ]
  },
  {
   "cell_type": "markdown",
   "metadata": {},
   "source": [
    "## VI. Conclusion"
   ]
  },
  {
   "cell_type": "markdown",
   "metadata": {},
   "source": [
    "### VI.1 Descriptive Statistic Conclusion\n",
    "\n",
    "Desciptive Statistic consists of `measure of central tendency` and `measure of variance.`\n",
    "\n",
    "Here are the summary of `Descriptive Statistic` for each column."
   ]
  },
  {
   "cell_type": "code",
   "execution_count": 53,
   "metadata": {},
   "outputs": [
    {
     "name": "stdout",
     "output_type": "stream",
     "text": [
      "Measure of Central Tendency - usd_goal_real \n",
      "\n",
      "Min :  0.01\n",
      "Mean :  43677.76\n",
      "Median :  5000.0\n",
      "Mode :  0    5000.0\n",
      "Name: usd_goal_real, dtype: float64\n",
      "Max :  100000000.0\n",
      "\n",
      "Measure of Variance - usd_goal_real \n",
      "\n",
      "Range :  99999999.99\n",
      "1st Quartile :  2000.0\n",
      "3rd Quartile :  15000.0\n",
      "Variance :  1217131876694.45\n",
      "Std. Deviation :  1103237.0\n"
     ]
    }
   ],
   "source": [
    "# Column : usd_goal_real\n",
    "\n",
    "print('Measure of Central Tendency - usd_goal_real ')\n",
    "print()\n",
    "print(f'Min : ', df_US['usd_goal_real'].min())\n",
    "print(f'Mean : ', df_US['usd_goal_real'].mean().round(2))\n",
    "print(f'Median : ', df_US['usd_goal_real'].median())\n",
    "print(f'Mode : ', df_US['usd_goal_real'].mode())\n",
    "print(f'Max : ',df_US['usd_goal_real'].max())\n",
    "\n",
    "print()\n",
    "\n",
    "print('Measure of Variance - usd_goal_real ')\n",
    "print()\n",
    "print(f'Range : ', df_US['usd_goal_real'].max() - df_US['usd_goal_real'].min())\n",
    "print(f'1st Quartile : ', df_US['usd_goal_real'].quantile(0.25))\n",
    "print(f'3rd Quartile : ', df_US['usd_goal_real'].quantile(0.75))\n",
    "print(f'Variance : ', df_US['usd_goal_real'].var().round(2))\n",
    "print(f'Std. Deviation : ', df_US['usd_goal_real'].std().round(2))"
   ]
  },
  {
   "cell_type": "code",
   "execution_count": 54,
   "metadata": {},
   "outputs": [
    {
     "name": "stdout",
     "output_type": "stream",
     "text": [
      "Measure of Central Tendency - usd_pledged_real\n",
      "\n",
      "Min :  0.0\n",
      "Mean :  9612.26\n",
      "Median :  725.0\n",
      "Mode :  0    0.0\n",
      "Name: usd_pledged_real, dtype: float64\n",
      "Max :  20338986.27\n",
      "\n",
      "Measure of Variance - usd_pledged_real\n",
      "\n",
      "Range :  20338986.27\n",
      "1st Quartile :  41.0\n",
      "3rd Quartile :  4368.0\n",
      "Variance :  9801091726.55\n",
      "Std. Deviation :  99000.46\n"
     ]
    }
   ],
   "source": [
    "# Column : usd_pledged_real\n",
    "\n",
    "print('Measure of Central Tendency - usd_pledged_real')\n",
    "print()\n",
    "print(f'Min : ', df_US['usd_pledged_real'].min())\n",
    "print(f'Mean : ', df_US['usd_pledged_real'].mean().round(2))\n",
    "print(f'Median : ', df_US['usd_pledged_real'].median())\n",
    "print(f'Mode : ', df_US['usd_pledged_real'].mode())\n",
    "print(f'Max : ',df_US['usd_pledged_real'].max())\n",
    "\n",
    "print()\n",
    "\n",
    "print('Measure of Variance - usd_pledged_real')\n",
    "print()\n",
    "print(f'Range : ', df_US['usd_pledged_real'].max() - df_US['usd_pledged_real'].min())\n",
    "print(f'1st Quartile : ', df_US['usd_pledged_real'].quantile(0.25))\n",
    "print(f'3rd Quartile : ', df_US['usd_pledged_real'].quantile(0.75))\n",
    "print(f'Variance : ', df_US['usd_pledged_real'].var().round(2))\n",
    "print(f'Std. Deviation : ', df_US['usd_pledged_real'].std().round(2))"
   ]
  },
  {
   "cell_type": "code",
   "execution_count": 55,
   "metadata": {},
   "outputs": [
    {
     "name": "stdout",
     "output_type": "stream",
     "text": [
      "Measure of Central Tendency - backers\n",
      "\n",
      "Min :  0\n",
      "Mean :  112.03\n",
      "Median :  13.0\n",
      "Mode :  0    0\n",
      "Name: backers, dtype: int64\n",
      "Max :  219382\n",
      "\n",
      "Measure of Variance - backers\n",
      "\n",
      "Range :  219382\n",
      "1st Quartile :  2.0\n",
      "3rd Quartile :  59.0\n",
      "Variance :  962760.93\n",
      "Std. Deviation :  981.2\n"
     ]
    }
   ],
   "source": [
    "# Column : backers\n",
    "\n",
    "print('Measure of Central Tendency - backers')\n",
    "print()\n",
    "print(f'Min : ', df_US['backers'].min())\n",
    "print(f'Mean : ', df_US['backers'].mean().round(2))\n",
    "print(f'Median : ', df_US['backers'].median())\n",
    "print(f'Mode : ', df_US['backers'].mode())\n",
    "print(f'Max : ',df_US['backers'].max())\n",
    "\n",
    "print()\n",
    "\n",
    "print('Measure of Variance - backers')\n",
    "print()\n",
    "print(f'Range : ', df_US['backers'].max() - df_US['backers'].min())\n",
    "print(f'1st Quartile : ', df_US['backers'].quantile(0.25))\n",
    "print(f'3rd Quartile : ', df_US['backers'].quantile(0.75))\n",
    "print(f'Variance : ', df_US['backers'].var().round(2))\n",
    "print(f'Std. Deviation : ', df_US['backers'].std().round(2))"
   ]
  },
  {
   "cell_type": "markdown",
   "metadata": {},
   "source": [
    "From `Descriptive Statistic` result above, it tells us:\n",
    "\n",
    "- `Mean` value is differ far away from `Median and Mode` value.\n",
    "- This result in `Skewed Distribution`\n",
    "- `Range` value is too extreme for each column\n",
    "- `Std. Deviation` is also too extreme compared to the `measure of central tendency`"
   ]
  },
  {
   "cell_type": "markdown",
   "metadata": {},
   "source": [
    "Log format is done to `reduce distribution skewness`, and hope to get more `normally distributed data.`\n",
    "\n",
    "After log formatting each column, only `usd_goal_real` column is getting closer to normally distributed data.\n",
    "\n",
    "Here are the result after log formatting."
   ]
  },
  {
   "cell_type": "code",
   "execution_count": 56,
   "metadata": {},
   "outputs": [
    {
     "name": "stdout",
     "output_type": "stream",
     "text": [
      "Measure of Central Tendency - log_goal\n",
      "\n",
      "Mean :  8.64\n",
      "Median :  8.517193191416238\n",
      "Mode :  0    8.517193\n",
      "Name: usd_goal_real, dtype: float64\n"
     ]
    }
   ],
   "source": [
    "# Measure of Central Tendency\n",
    "# Column : log_goal\n",
    "\n",
    "print('Measure of Central Tendency - log_goal')\n",
    "print()\n",
    "print(f'Mean : ', log_goal.mean().round(2))\n",
    "print(f'Median : ', log_goal.median())\n",
    "print(f'Mode : ', log_goal.mode())"
   ]
  },
  {
   "cell_type": "code",
   "execution_count": 57,
   "metadata": {},
   "outputs": [
    {
     "data": {
      "image/png": "[encoded data removed]",
      "text/plain": [
       "<Figure size 1080x720 with 1 Axes>"
      ]
     },
     "metadata": {
      "needs_background": "light"
     },
     "output_type": "display_data"
    }
   ],
   "source": [
    "# Graph plot\n",
    "plt.figure(figsize=(15, 10))\n",
    "\n",
    "sns.histplot(log_goal, kde=True)\n",
    "plt.axvline(log_goal.mean(), linestyle='dashed', label='mean', color='orange')\n",
    "plt.axvline(log_goal.median(), linestyle='dashed', label='median', color='green')\n",
    "\n",
    "plt.legend()\n",
    "plt.show()"
   ]
  },
  {
   "cell_type": "markdown",
   "metadata": {},
   "source": [
    "### VI.2 Inferential Statistic Conclusion\n",
    "\n",
    "From previous process, only `log transformed usd_goal_real` column that is `normally distributed`.\\\n",
    "Statistical inference will be carried out from this column."
   ]
  },
  {
   "cell_type": "code",
   "execution_count": 58,
   "metadata": {},
   "outputs": [
    {
     "data": {
      "text/plain": [
       "main_category\n",
       "Technology      9.726707\n",
       "Design          9.187512\n",
       "Food            9.007434\n",
       "Games           8.931700\n",
       "Film & Video    8.924145\n",
       "Fashion         8.564142\n",
       "Journalism      8.478189\n",
       "Publishing      8.344984\n",
       "Theater         8.257609\n",
       "Music           8.245188\n",
       "Photography     8.195528\n",
       "Dance           8.162865\n",
       "Comics          8.095929\n",
       "Art             7.919961\n",
       "Crafts          7.691644\n",
       "Name: usd_goal_log, dtype: float64"
      ]
     },
     "execution_count": 58,
     "metadata": {},
     "output_type": "execute_result"
    }
   ],
   "source": [
    "# Grouping the dataset by main category\n",
    "# Show the mean value for each main category\n",
    "\n",
    "df_log.groupby('main_category')['usd_goal_log'].mean().sort_values(ascending=False)"
   ]
  },
  {
   "cell_type": "markdown",
   "metadata": {},
   "source": [
    "Based on result above, mean values for some `main_category` are looks similar.\n",
    "\n",
    "We will run `Hypothesis Testing` to determine wether mean values between `Games` and `Film & Video` categories is significantly different or not."
   ]
  },
  {
   "cell_type": "code",
   "execution_count": 59,
   "metadata": {},
   "outputs": [
    {
     "name": "stdout",
     "output_type": "stream",
     "text": [
      "Probability value :  0.5637829147837504\n",
      "t-statistics :  0.5772342376951554\n"
     ]
    }
   ],
   "source": [
    "# t-test 2 sample 2 tailed\n",
    "t_stat, p_val = stats.ttest_ind(games['usd_goal_log'], film['usd_goal_log'])\n",
    "\n",
    "# ttest_ind is 2-tailed, so we dont need to divide by 2\n",
    "print('Probability value : ', p_val)\n",
    "print('t-statistics : ', t_stat)"
   ]
  },
  {
   "cell_type": "code",
   "execution_count": 60,
   "metadata": {},
   "outputs": [
    {
     "data": {
      "text/plain": [
       "False"
      ]
     },
     "execution_count": 60,
     "metadata": {},
     "output_type": "execute_result"
    }
   ],
   "source": [
    "# Compare P_value with Level of Significance\n",
    "\n",
    "p_val <= 0.05"
   ]
  },
  {
   "cell_type": "code",
   "execution_count": 61,
   "metadata": {},
   "outputs": [
    {
     "data": {
      "image/png": "[encoded data removed]",
      "text/plain": [
       "<Figure size 1440x1080 with 1 Axes>"
      ]
     },
     "metadata": {
      "needs_background": "light"
     },
     "output_type": "display_data"
    }
   ],
   "source": [
    "# Simulation\n",
    "games_pop = np.random.normal(games['usd_goal_log'].mean(), games['usd_goal_log'].std(),10000)\n",
    "film_pop = np.random.normal(film['usd_goal_log'].mean(), film['usd_goal_log'].std(),10000)\n",
    "\n",
    "# confidence interval\n",
    "# used cv = 0.05 since 2 tailed, we use 0.95 as it is. \n",
    "ci = stats.norm.interval(0.95, games['usd_goal_log'].mean(), games['usd_goal_log'].std())\n",
    "\n",
    "plt.figure(figsize=(20,15))\n",
    "sns.kdeplot(games_pop, label='Games population distribution', fill='blue', alpha=0.5)\n",
    "sns.kdeplot(film_pop, label='Film & Video population distribution', fill='orange' , alpha=0.5)\n",
    "\n",
    "# mean\n",
    "plt.axvline(games['usd_goal_log'].mean(), color='pink', linewidth=2, label='Games goal_log mean')\n",
    "plt.axvline(film['usd_goal_log'].mean(), color='red',  linewidth=2, label='Film & Video goal_log mean')\n",
    "\n",
    "plt.axvline(ci[1], color='green', linestyle='dashed', linewidth=2, label='Confidence Threshold of 95%')\n",
    "plt.axvline(ci[0], color='green', linestyle='dashed', linewidth=2)\n",
    "\n",
    "plt.axvline(games_pop.mean() + t_stat * games_pop.std(), color='black', linestyle='dashed', linewidth=2, label = 'Alternative Hypothesis')\n",
    "plt.axvline(film_pop.mean() - t_stat * film_pop.std(), color='black', linestyle='dashed', linewidth=2)\n",
    "\n",
    "plt.legend()\n",
    "plt.show()"
   ]
  },
  {
   "cell_type": "markdown",
   "metadata": {},
   "source": [
    "Result Interpretation\n",
    "\n",
    "From P_value comparisson with Level of Significance, We can see that `P_value is greater than ɑ.`\\\n",
    "From the simulation graph, We can see that the `'Alternative Hypothesis Line' falls inside the 'Confidence Threshold of 95%'`\n",
    "\n",
    "So, I can conclude that `there is not enough evidence to reject the null hypothesis.`\\\n",
    "Which mean, Mean value of `Games` category is relatively the same as Mean value of `Film & Videos` category"
   ]
  }
 ],
 "metadata": {
  "interpreter": {
   "hash": "2ae274a990724d11e4bcb5d86d62fd1b7c46f8feb3ee4d0f6187073d22ba77ef"
  },
  "kernelspec": {
   "display_name": "Python 3.10.2 64-bit (windows store)",
   "language": "python",
   "name": "python3"
  },
  "language_info": {
   "codemirror_mode": {
    "name": "ipython",
    "version": 3
   },
   "file_extension": ".py",
   "mimetype": "text/x-python",
   "name": "python",
   "nbconvert_exporter": "python",
   "pygments_lexer": "ipython3",
   "version": "3.10.2"
  },
  "orig_nbformat": 4
 },
 "nbformat": 4,
 "nbformat_minor": 2
}
